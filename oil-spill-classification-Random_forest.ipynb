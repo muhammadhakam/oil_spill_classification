{
 "cells": [
  {
   "cell_type": "code",
   "execution_count": 1,
   "id": "83a36fc2",
   "metadata": {
    "execution": {
     "iopub.execute_input": "2023-03-02T20:03:44.550165Z",
     "iopub.status.busy": "2023-03-02T20:03:44.549724Z",
     "iopub.status.idle": "2023-03-02T20:03:48.022230Z",
     "shell.execute_reply": "2023-03-02T20:03:48.020068Z"
    },
    "papermill": {
     "duration": 3.485574,
     "end_time": "2023-03-02T20:03:48.026925",
     "exception": false,
     "start_time": "2023-03-02T20:03:44.541351",
     "status": "completed"
    },
    "tags": []
   },
   "outputs": [],
   "source": [
    "import pandas as pd   # data preprocessing\n",
    "import numpy as np   # mathematical computations\n",
    "import matplotlib.pyplot as plt # visualization\n",
    "import seaborn as sns    # visualization\n",
    "import plotly.express as px # visualization\n",
    "\n",
    "# from sklearn.metrics import confusion_matrix, classification_report\n",
    "from sklearn.model_selection import train_test_split\n",
    "\n",
    "from sklearn.preprocessing import StandardScaler\n",
    "from sklearn.linear_model import LogisticRegression\n",
    "from sklearn.metrics import accuracy_score\n",
    "\n",
    "import warnings\n",
    "warnings.filterwarnings('ignore')"
   ]
  },
  {
   "cell_type": "code",
   "execution_count": 2,
   "id": "eea41a2b",
   "metadata": {
    "execution": {
     "iopub.execute_input": "2023-03-02T20:03:48.045430Z",
     "iopub.status.busy": "2023-03-02T20:03:48.044487Z",
     "iopub.status.idle": "2023-03-02T20:03:48.140926Z",
     "shell.execute_reply": "2023-03-02T20:03:48.139718Z"
    },
    "papermill": {
     "duration": 0.110411,
     "end_time": "2023-03-02T20:03:48.146077",
     "exception": false,
     "start_time": "2023-03-02T20:03:48.035666",
     "status": "completed"
    },
    "tags": []
   },
   "outputs": [
    {
     "name": "stdout",
     "output_type": "stream",
     "text": [
      "<class 'pandas.core.frame.DataFrame'>\n"
     ]
    },
    {
     "data": {
      "text/html": [
       "<div>\n",
       "<style scoped>\n",
       "    .dataframe tbody tr th:only-of-type {\n",
       "        vertical-align: middle;\n",
       "    }\n",
       "\n",
       "    .dataframe tbody tr th {\n",
       "        vertical-align: top;\n",
       "    }\n",
       "\n",
       "    .dataframe thead th {\n",
       "        text-align: right;\n",
       "    }\n",
       "</style>\n",
       "<table border=\"1\" class=\"dataframe\">\n",
       "  <thead>\n",
       "    <tr style=\"text-align: right;\">\n",
       "      <th></th>\n",
       "      <th>f_1</th>\n",
       "      <th>f_2</th>\n",
       "      <th>f_3</th>\n",
       "      <th>f_4</th>\n",
       "      <th>f_5</th>\n",
       "      <th>f_6</th>\n",
       "      <th>f_7</th>\n",
       "      <th>f_8</th>\n",
       "      <th>f_9</th>\n",
       "      <th>f_10</th>\n",
       "      <th>...</th>\n",
       "      <th>f_41</th>\n",
       "      <th>f_42</th>\n",
       "      <th>f_43</th>\n",
       "      <th>f_44</th>\n",
       "      <th>f_45</th>\n",
       "      <th>f_46</th>\n",
       "      <th>f_47</th>\n",
       "      <th>f_48</th>\n",
       "      <th>f_49</th>\n",
       "      <th>target</th>\n",
       "    </tr>\n",
       "  </thead>\n",
       "  <tbody>\n",
       "    <tr>\n",
       "      <th>0</th>\n",
       "      <td>1</td>\n",
       "      <td>2558</td>\n",
       "      <td>1506.09</td>\n",
       "      <td>456.63</td>\n",
       "      <td>90</td>\n",
       "      <td>6395000</td>\n",
       "      <td>40.88</td>\n",
       "      <td>7.89</td>\n",
       "      <td>29780.0</td>\n",
       "      <td>0.19</td>\n",
       "      <td>...</td>\n",
       "      <td>2850.00</td>\n",
       "      <td>1000.00</td>\n",
       "      <td>763.16</td>\n",
       "      <td>135.46</td>\n",
       "      <td>3.73</td>\n",
       "      <td>0</td>\n",
       "      <td>33243.19</td>\n",
       "      <td>65.74</td>\n",
       "      <td>7.95</td>\n",
       "      <td>1</td>\n",
       "    </tr>\n",
       "    <tr>\n",
       "      <th>1</th>\n",
       "      <td>2</td>\n",
       "      <td>22325</td>\n",
       "      <td>79.11</td>\n",
       "      <td>841.03</td>\n",
       "      <td>180</td>\n",
       "      <td>55812500</td>\n",
       "      <td>51.11</td>\n",
       "      <td>1.21</td>\n",
       "      <td>61900.0</td>\n",
       "      <td>0.02</td>\n",
       "      <td>...</td>\n",
       "      <td>5750.00</td>\n",
       "      <td>11500.00</td>\n",
       "      <td>9593.48</td>\n",
       "      <td>1648.80</td>\n",
       "      <td>0.60</td>\n",
       "      <td>0</td>\n",
       "      <td>51572.04</td>\n",
       "      <td>65.73</td>\n",
       "      <td>6.26</td>\n",
       "      <td>0</td>\n",
       "    </tr>\n",
       "    <tr>\n",
       "      <th>2</th>\n",
       "      <td>3</td>\n",
       "      <td>115</td>\n",
       "      <td>1449.85</td>\n",
       "      <td>608.43</td>\n",
       "      <td>88</td>\n",
       "      <td>287500</td>\n",
       "      <td>40.42</td>\n",
       "      <td>7.34</td>\n",
       "      <td>3340.0</td>\n",
       "      <td>0.18</td>\n",
       "      <td>...</td>\n",
       "      <td>1400.00</td>\n",
       "      <td>250.00</td>\n",
       "      <td>150.00</td>\n",
       "      <td>45.13</td>\n",
       "      <td>9.33</td>\n",
       "      <td>1</td>\n",
       "      <td>31692.84</td>\n",
       "      <td>65.81</td>\n",
       "      <td>7.84</td>\n",
       "      <td>1</td>\n",
       "    </tr>\n",
       "    <tr>\n",
       "      <th>3</th>\n",
       "      <td>4</td>\n",
       "      <td>1201</td>\n",
       "      <td>1562.53</td>\n",
       "      <td>295.65</td>\n",
       "      <td>66</td>\n",
       "      <td>3002500</td>\n",
       "      <td>42.40</td>\n",
       "      <td>7.97</td>\n",
       "      <td>18030.0</td>\n",
       "      <td>0.19</td>\n",
       "      <td>...</td>\n",
       "      <td>6041.52</td>\n",
       "      <td>761.58</td>\n",
       "      <td>453.21</td>\n",
       "      <td>144.97</td>\n",
       "      <td>13.33</td>\n",
       "      <td>1</td>\n",
       "      <td>37696.21</td>\n",
       "      <td>65.67</td>\n",
       "      <td>8.07</td>\n",
       "      <td>1</td>\n",
       "    </tr>\n",
       "    <tr>\n",
       "      <th>4</th>\n",
       "      <td>5</td>\n",
       "      <td>312</td>\n",
       "      <td>950.27</td>\n",
       "      <td>440.86</td>\n",
       "      <td>37</td>\n",
       "      <td>780000</td>\n",
       "      <td>41.43</td>\n",
       "      <td>7.03</td>\n",
       "      <td>3350.0</td>\n",
       "      <td>0.17</td>\n",
       "      <td>...</td>\n",
       "      <td>1320.04</td>\n",
       "      <td>710.63</td>\n",
       "      <td>512.54</td>\n",
       "      <td>109.16</td>\n",
       "      <td>2.58</td>\n",
       "      <td>0</td>\n",
       "      <td>29038.17</td>\n",
       "      <td>65.66</td>\n",
       "      <td>7.35</td>\n",
       "      <td>0</td>\n",
       "    </tr>\n",
       "  </tbody>\n",
       "</table>\n",
       "<p>5 rows × 50 columns</p>\n",
       "</div>"
      ],
      "text/plain": [
       "   f_1    f_2      f_3     f_4  f_5       f_6    f_7   f_8      f_9  f_10  \\\n",
       "0    1   2558  1506.09  456.63   90   6395000  40.88  7.89  29780.0  0.19   \n",
       "1    2  22325    79.11  841.03  180  55812500  51.11  1.21  61900.0  0.02   \n",
       "2    3    115  1449.85  608.43   88    287500  40.42  7.34   3340.0  0.18   \n",
       "3    4   1201  1562.53  295.65   66   3002500  42.40  7.97  18030.0  0.19   \n",
       "4    5    312   950.27  440.86   37    780000  41.43  7.03   3350.0  0.17   \n",
       "\n",
       "   ...     f_41      f_42     f_43     f_44   f_45  f_46      f_47   f_48  \\\n",
       "0  ...  2850.00   1000.00   763.16   135.46   3.73     0  33243.19  65.74   \n",
       "1  ...  5750.00  11500.00  9593.48  1648.80   0.60     0  51572.04  65.73   \n",
       "2  ...  1400.00    250.00   150.00    45.13   9.33     1  31692.84  65.81   \n",
       "3  ...  6041.52    761.58   453.21   144.97  13.33     1  37696.21  65.67   \n",
       "4  ...  1320.04    710.63   512.54   109.16   2.58     0  29038.17  65.66   \n",
       "\n",
       "   f_49  target  \n",
       "0  7.95       1  \n",
       "1  6.26       0  \n",
       "2  7.84       1  \n",
       "3  8.07       1  \n",
       "4  7.35       0  \n",
       "\n",
       "[5 rows x 50 columns]"
      ]
     },
     "execution_count": 2,
     "metadata": {},
     "output_type": "execute_result"
    }
   ],
   "source": [
    "# df is a varaible in data[frame is stored\n",
    "data = pd.read_csv('/kaggle/input/oil-spill-detection/oil_spill.csv')\n",
    "print(type(data))\n",
    "data.head()"
   ]
  },
  {
   "cell_type": "code",
   "execution_count": 3,
   "id": "7f5418f4",
   "metadata": {
    "execution": {
     "iopub.execute_input": "2023-03-02T20:03:48.160238Z",
     "iopub.status.busy": "2023-03-02T20:03:48.159688Z",
     "iopub.status.idle": "2023-03-02T20:03:48.166696Z",
     "shell.execute_reply": "2023-03-02T20:03:48.165643Z"
    },
    "papermill": {
     "duration": 0.017977,
     "end_time": "2023-03-02T20:03:48.170187",
     "exception": false,
     "start_time": "2023-03-02T20:03:48.152210",
     "status": "completed"
    },
    "tags": []
   },
   "outputs": [
    {
     "data": {
      "text/plain": [
       "(937, 50)"
      ]
     },
     "execution_count": 3,
     "metadata": {},
     "output_type": "execute_result"
    }
   ],
   "source": [
    "data.shape # shape of the Data"
   ]
  },
  {
   "cell_type": "markdown",
   "id": "45bdb575",
   "metadata": {
    "papermill": {
     "duration": 0.008425,
     "end_time": "2023-03-02T20:03:48.187887",
     "exception": false,
     "start_time": "2023-03-02T20:03:48.179462",
     "status": "completed"
    },
    "tags": []
   },
   "source": [
    "## Data Preprocessing"
   ]
  },
  {
   "cell_type": "code",
   "execution_count": 4,
   "id": "60361915",
   "metadata": {
    "execution": {
     "iopub.execute_input": "2023-03-02T20:03:48.203519Z",
     "iopub.status.busy": "2023-03-02T20:03:48.202495Z",
     "iopub.status.idle": "2023-03-02T20:03:48.215357Z",
     "shell.execute_reply": "2023-03-02T20:03:48.213876Z"
    },
    "papermill": {
     "duration": 0.023555,
     "end_time": "2023-03-02T20:03:48.217968",
     "exception": false,
     "start_time": "2023-03-02T20:03:48.194413",
     "status": "completed"
    },
    "tags": []
   },
   "outputs": [
    {
     "data": {
      "text/plain": [
       "Series([], dtype: int64)"
      ]
     },
     "execution_count": 4,
     "metadata": {},
     "output_type": "execute_result"
    }
   ],
   "source": [
    "null_value = data.isnull().sum()\n",
    "null_values = null_value[null_value>0]\n",
    "null_values"
   ]
  },
  {
   "cell_type": "code",
   "execution_count": 5,
   "id": "d27d7828",
   "metadata": {
    "execution": {
     "iopub.execute_input": "2023-03-02T20:03:48.232708Z",
     "iopub.status.busy": "2023-03-02T20:03:48.232315Z",
     "iopub.status.idle": "2023-03-02T20:03:48.273266Z",
     "shell.execute_reply": "2023-03-02T20:03:48.272032Z"
    },
    "papermill": {
     "duration": 0.051296,
     "end_time": "2023-03-02T20:03:48.275957",
     "exception": false,
     "start_time": "2023-03-02T20:03:48.224661",
     "status": "completed"
    },
    "tags": []
   },
   "outputs": [
    {
     "data": {
      "text/plain": [
       "0"
      ]
     },
     "execution_count": 5,
     "metadata": {},
     "output_type": "execute_result"
    }
   ],
   "source": [
    "data.duplicated().sum()"
   ]
  },
  {
   "cell_type": "code",
   "execution_count": 6,
   "id": "da3cc2f4",
   "metadata": {
    "execution": {
     "iopub.execute_input": "2023-03-02T20:03:48.292185Z",
     "iopub.status.busy": "2023-03-02T20:03:48.291311Z",
     "iopub.status.idle": "2023-03-02T20:03:48.303524Z",
     "shell.execute_reply": "2023-03-02T20:03:48.302370Z"
    },
    "papermill": {
     "duration": 0.023169,
     "end_time": "2023-03-02T20:03:48.306039",
     "exception": false,
     "start_time": "2023-03-02T20:03:48.282870",
     "status": "completed"
    },
    "tags": []
   },
   "outputs": [
    {
     "data": {
      "text/plain": [
       "float64    39\n",
       "int64      11\n",
       "dtype: int64"
      ]
     },
     "execution_count": 6,
     "metadata": {},
     "output_type": "execute_result"
    }
   ],
   "source": [
    "data.dtypes.value_counts()"
   ]
  },
  {
   "cell_type": "code",
   "execution_count": 7,
   "id": "610fd097",
   "metadata": {
    "execution": {
     "iopub.execute_input": "2023-03-02T20:03:48.321670Z",
     "iopub.status.busy": "2023-03-02T20:03:48.320673Z",
     "iopub.status.idle": "2023-03-02T20:03:48.331236Z",
     "shell.execute_reply": "2023-03-02T20:03:48.329998Z"
    },
    "papermill": {
     "duration": 0.02133,
     "end_time": "2023-03-02T20:03:48.333807",
     "exception": false,
     "start_time": "2023-03-02T20:03:48.312477",
     "status": "completed"
    },
    "tags": []
   },
   "outputs": [
    {
     "data": {
      "text/plain": [
       "0    896\n",
       "1     41\n",
       "Name: target, dtype: int64"
      ]
     },
     "execution_count": 7,
     "metadata": {},
     "output_type": "execute_result"
    }
   ],
   "source": [
    "data['target'].value_counts()"
   ]
  },
  {
   "cell_type": "code",
   "execution_count": 8,
   "id": "f8e30831",
   "metadata": {
    "execution": {
     "iopub.execute_input": "2023-03-02T20:03:48.350043Z",
     "iopub.status.busy": "2023-03-02T20:03:48.349029Z",
     "iopub.status.idle": "2023-03-02T20:03:48.355314Z",
     "shell.execute_reply": "2023-03-02T20:03:48.354016Z"
    },
    "papermill": {
     "duration": 0.017777,
     "end_time": "2023-03-02T20:03:48.358085",
     "exception": false,
     "start_time": "2023-03-02T20:03:48.340308",
     "status": "completed"
    },
    "tags": []
   },
   "outputs": [],
   "source": [
    "data1 = data.copy()"
   ]
  },
  {
   "cell_type": "markdown",
   "id": "de11cade",
   "metadata": {
    "papermill": {
     "duration": 0.006768,
     "end_time": "2023-03-02T20:03:48.371543",
     "exception": false,
     "start_time": "2023-03-02T20:03:48.364775",
     "status": "completed"
    },
    "tags": []
   },
   "source": [
    "## EDA - Exploratoty Data Analaysis"
   ]
  },
  {
   "cell_type": "code",
   "execution_count": 9,
   "id": "e3993a19",
   "metadata": {
    "execution": {
     "iopub.execute_input": "2023-03-02T20:03:48.388259Z",
     "iopub.status.busy": "2023-03-02T20:03:48.387700Z",
     "iopub.status.idle": "2023-03-02T20:03:48.395512Z",
     "shell.execute_reply": "2023-03-02T20:03:48.394407Z"
    },
    "papermill": {
     "duration": 0.021166,
     "end_time": "2023-03-02T20:03:48.399203",
     "exception": false,
     "start_time": "2023-03-02T20:03:48.378037",
     "status": "completed"
    },
    "tags": []
   },
   "outputs": [
    {
     "data": {
      "text/plain": [
       "Index(['f_1', 'f_2', 'f_3', 'f_4', 'f_5', 'f_6', 'f_7', 'f_8', 'f_9', 'f_10',\n",
       "       'f_11', 'f_12', 'f_13', 'f_14', 'f_15', 'f_16', 'f_17', 'f_18', 'f_19',\n",
       "       'f_20', 'f_21', 'f_22', 'f_23', 'f_24', 'f_25', 'f_26', 'f_27', 'f_28',\n",
       "       'f_29', 'f_30', 'f_31', 'f_32', 'f_33', 'f_34', 'f_35', 'f_36', 'f_37',\n",
       "       'f_38', 'f_39', 'f_40', 'f_41', 'f_42', 'f_43', 'f_44', 'f_45', 'f_46',\n",
       "       'f_47', 'f_48', 'f_49', 'target'],\n",
       "      dtype='object')"
      ]
     },
     "execution_count": 9,
     "metadata": {},
     "output_type": "execute_result"
    }
   ],
   "source": [
    "data.columns"
   ]
  },
  {
   "cell_type": "code",
   "execution_count": 10,
   "id": "fff6bd16",
   "metadata": {
    "execution": {
     "iopub.execute_input": "2023-03-02T20:03:48.423057Z",
     "iopub.status.busy": "2023-03-02T20:03:48.421711Z",
     "iopub.status.idle": "2023-03-02T20:03:48.659534Z",
     "shell.execute_reply": "2023-03-02T20:03:48.658223Z"
    },
    "papermill": {
     "duration": 0.252543,
     "end_time": "2023-03-02T20:03:48.663263",
     "exception": false,
     "start_time": "2023-03-02T20:03:48.410720",
     "status": "completed"
    },
    "tags": []
   },
   "outputs": [
    {
     "data": {
      "text/html": [
       "<style type=\"text/css\">\n",
       "#T_8f5a4_row0_col0, #T_8f5a4_row1_col0, #T_8f5a4_row2_col0, #T_8f5a4_row3_col0, #T_8f5a4_row4_col0, #T_8f5a4_row5_col0, #T_8f5a4_row6_col0, #T_8f5a4_row7_col0, #T_8f5a4_row8_col0, #T_8f5a4_row9_col0, #T_8f5a4_row10_col0, #T_8f5a4_row11_col0, #T_8f5a4_row12_col0, #T_8f5a4_row13_col0, #T_8f5a4_row14_col0, #T_8f5a4_row15_col0, #T_8f5a4_row16_col0, #T_8f5a4_row17_col0, #T_8f5a4_row18_col0, #T_8f5a4_row19_col0, #T_8f5a4_row20_col0, #T_8f5a4_row21_col0, #T_8f5a4_row22_col0, #T_8f5a4_row23_col0, #T_8f5a4_row24_col0, #T_8f5a4_row25_col0, #T_8f5a4_row26_col0, #T_8f5a4_row27_col0, #T_8f5a4_row28_col0, #T_8f5a4_row29_col0, #T_8f5a4_row30_col0, #T_8f5a4_row31_col0, #T_8f5a4_row32_col0, #T_8f5a4_row33_col0, #T_8f5a4_row34_col0, #T_8f5a4_row35_col0, #T_8f5a4_row36_col0, #T_8f5a4_row37_col0, #T_8f5a4_row38_col0, #T_8f5a4_row39_col0, #T_8f5a4_row40_col0, #T_8f5a4_row41_col0, #T_8f5a4_row42_col0, #T_8f5a4_row43_col0, #T_8f5a4_row44_col0, #T_8f5a4_row45_col0, #T_8f5a4_row46_col0, #T_8f5a4_row47_col0, #T_8f5a4_row48_col0, #T_8f5a4_row49_col0 {\n",
       "  background-color: #fff5eb;\n",
       "  color: #000000;\n",
       "}\n",
       "#T_8f5a4_row0_col1, #T_8f5a4_row0_col2, #T_8f5a4_row0_col3, #T_8f5a4_row0_col4, #T_8f5a4_row0_col5, #T_8f5a4_row0_col6, #T_8f5a4_row0_col7, #T_8f5a4_row1_col1, #T_8f5a4_row1_col2, #T_8f5a4_row1_col3, #T_8f5a4_row1_col4, #T_8f5a4_row1_col5, #T_8f5a4_row1_col6, #T_8f5a4_row1_col7, #T_8f5a4_row2_col1, #T_8f5a4_row2_col2, #T_8f5a4_row2_col3, #T_8f5a4_row2_col4, #T_8f5a4_row2_col5, #T_8f5a4_row2_col6, #T_8f5a4_row2_col7, #T_8f5a4_row3_col1, #T_8f5a4_row3_col2, #T_8f5a4_row3_col3, #T_8f5a4_row3_col4, #T_8f5a4_row3_col5, #T_8f5a4_row3_col6, #T_8f5a4_row3_col7, #T_8f5a4_row4_col1, #T_8f5a4_row4_col2, #T_8f5a4_row4_col3, #T_8f5a4_row4_col4, #T_8f5a4_row4_col5, #T_8f5a4_row4_col6, #T_8f5a4_row4_col7, #T_8f5a4_row6_col1, #T_8f5a4_row6_col2, #T_8f5a4_row6_col3, #T_8f5a4_row6_col4, #T_8f5a4_row6_col5, #T_8f5a4_row6_col6, #T_8f5a4_row6_col7, #T_8f5a4_row7_col1, #T_8f5a4_row7_col2, #T_8f5a4_row7_col3, #T_8f5a4_row7_col4, #T_8f5a4_row7_col5, #T_8f5a4_row7_col6, #T_8f5a4_row7_col7, #T_8f5a4_row8_col1, #T_8f5a4_row8_col2, #T_8f5a4_row8_col7, #T_8f5a4_row9_col1, #T_8f5a4_row9_col2, #T_8f5a4_row9_col3, #T_8f5a4_row9_col4, #T_8f5a4_row9_col5, #T_8f5a4_row9_col6, #T_8f5a4_row9_col7, #T_8f5a4_row10_col1, #T_8f5a4_row10_col2, #T_8f5a4_row10_col3, #T_8f5a4_row10_col4, #T_8f5a4_row10_col5, #T_8f5a4_row10_col6, #T_8f5a4_row10_col7, #T_8f5a4_row11_col1, #T_8f5a4_row11_col2, #T_8f5a4_row11_col3, #T_8f5a4_row11_col4, #T_8f5a4_row11_col5, #T_8f5a4_row11_col6, #T_8f5a4_row11_col7, #T_8f5a4_row12_col1, #T_8f5a4_row12_col2, #T_8f5a4_row12_col3, #T_8f5a4_row12_col4, #T_8f5a4_row12_col5, #T_8f5a4_row12_col6, #T_8f5a4_row12_col7, #T_8f5a4_row13_col1, #T_8f5a4_row13_col2, #T_8f5a4_row13_col3, #T_8f5a4_row13_col4, #T_8f5a4_row13_col5, #T_8f5a4_row13_col6, #T_8f5a4_row13_col7, #T_8f5a4_row14_col1, #T_8f5a4_row14_col2, #T_8f5a4_row14_col3, #T_8f5a4_row14_col4, #T_8f5a4_row14_col5, #T_8f5a4_row14_col6, #T_8f5a4_row14_col7, #T_8f5a4_row15_col1, #T_8f5a4_row15_col2, #T_8f5a4_row15_col3, #T_8f5a4_row15_col4, #T_8f5a4_row15_col5, #T_8f5a4_row15_col6, #T_8f5a4_row15_col7, #T_8f5a4_row16_col1, #T_8f5a4_row16_col2, #T_8f5a4_row16_col3, #T_8f5a4_row16_col4, #T_8f5a4_row16_col5, #T_8f5a4_row16_col6, #T_8f5a4_row16_col7, #T_8f5a4_row17_col1, #T_8f5a4_row17_col2, #T_8f5a4_row17_col3, #T_8f5a4_row17_col4, #T_8f5a4_row17_col5, #T_8f5a4_row17_col6, #T_8f5a4_row17_col7, #T_8f5a4_row18_col1, #T_8f5a4_row18_col2, #T_8f5a4_row18_col3, #T_8f5a4_row18_col4, #T_8f5a4_row18_col5, #T_8f5a4_row18_col6, #T_8f5a4_row18_col7, #T_8f5a4_row19_col1, #T_8f5a4_row19_col2, #T_8f5a4_row19_col3, #T_8f5a4_row19_col4, #T_8f5a4_row19_col5, #T_8f5a4_row19_col6, #T_8f5a4_row19_col7, #T_8f5a4_row20_col1, #T_8f5a4_row20_col2, #T_8f5a4_row20_col3, #T_8f5a4_row20_col4, #T_8f5a4_row20_col5, #T_8f5a4_row20_col6, #T_8f5a4_row20_col7, #T_8f5a4_row21_col1, #T_8f5a4_row21_col2, #T_8f5a4_row21_col3, #T_8f5a4_row21_col4, #T_8f5a4_row21_col5, #T_8f5a4_row21_col6, #T_8f5a4_row21_col7, #T_8f5a4_row22_col1, #T_8f5a4_row22_col2, #T_8f5a4_row22_col3, #T_8f5a4_row22_col4, #T_8f5a4_row22_col5, #T_8f5a4_row22_col6, #T_8f5a4_row22_col7, #T_8f5a4_row23_col1, #T_8f5a4_row23_col2, #T_8f5a4_row23_col3, #T_8f5a4_row23_col4, #T_8f5a4_row23_col5, #T_8f5a4_row23_col6, #T_8f5a4_row23_col7, #T_8f5a4_row24_col1, #T_8f5a4_row24_col2, #T_8f5a4_row24_col3, #T_8f5a4_row24_col4, #T_8f5a4_row24_col5, #T_8f5a4_row24_col6, #T_8f5a4_row24_col7, #T_8f5a4_row25_col1, #T_8f5a4_row25_col2, #T_8f5a4_row25_col3, #T_8f5a4_row25_col4, #T_8f5a4_row25_col5, #T_8f5a4_row25_col6, #T_8f5a4_row25_col7, #T_8f5a4_row26_col1, #T_8f5a4_row26_col2, #T_8f5a4_row26_col3, #T_8f5a4_row26_col4, #T_8f5a4_row26_col5, #T_8f5a4_row26_col6, #T_8f5a4_row26_col7, #T_8f5a4_row27_col1, #T_8f5a4_row27_col2, #T_8f5a4_row27_col3, #T_8f5a4_row27_col4, #T_8f5a4_row27_col5, #T_8f5a4_row27_col6, #T_8f5a4_row27_col7, #T_8f5a4_row28_col1, #T_8f5a4_row28_col2, #T_8f5a4_row28_col3, #T_8f5a4_row28_col4, #T_8f5a4_row28_col5, #T_8f5a4_row28_col6, #T_8f5a4_row28_col7, #T_8f5a4_row29_col1, #T_8f5a4_row29_col2, #T_8f5a4_row29_col3, #T_8f5a4_row29_col4, #T_8f5a4_row29_col5, #T_8f5a4_row29_col6, #T_8f5a4_row29_col7, #T_8f5a4_row30_col1, #T_8f5a4_row30_col2, #T_8f5a4_row30_col3, #T_8f5a4_row30_col4, #T_8f5a4_row30_col5, #T_8f5a4_row30_col6, #T_8f5a4_row30_col7, #T_8f5a4_row31_col1, #T_8f5a4_row31_col2, #T_8f5a4_row31_col3, #T_8f5a4_row31_col4, #T_8f5a4_row31_col5, #T_8f5a4_row31_col6, #T_8f5a4_row31_col7, #T_8f5a4_row32_col1, #T_8f5a4_row32_col2, #T_8f5a4_row32_col3, #T_8f5a4_row32_col4, #T_8f5a4_row32_col5, #T_8f5a4_row32_col6, #T_8f5a4_row32_col7, #T_8f5a4_row33_col1, #T_8f5a4_row33_col2, #T_8f5a4_row33_col3, #T_8f5a4_row33_col4, #T_8f5a4_row33_col5, #T_8f5a4_row33_col6, #T_8f5a4_row33_col7, #T_8f5a4_row34_col1, #T_8f5a4_row34_col2, #T_8f5a4_row34_col3, #T_8f5a4_row34_col4, #T_8f5a4_row34_col5, #T_8f5a4_row34_col6, #T_8f5a4_row34_col7, #T_8f5a4_row35_col1, #T_8f5a4_row35_col2, #T_8f5a4_row35_col3, #T_8f5a4_row35_col4, #T_8f5a4_row35_col5, #T_8f5a4_row35_col6, #T_8f5a4_row35_col7, #T_8f5a4_row36_col1, #T_8f5a4_row36_col2, #T_8f5a4_row36_col3, #T_8f5a4_row36_col4, #T_8f5a4_row36_col5, #T_8f5a4_row36_col6, #T_8f5a4_row36_col7, #T_8f5a4_row37_col1, #T_8f5a4_row37_col2, #T_8f5a4_row37_col3, #T_8f5a4_row37_col4, #T_8f5a4_row37_col5, #T_8f5a4_row37_col6, #T_8f5a4_row37_col7, #T_8f5a4_row38_col1, #T_8f5a4_row38_col2, #T_8f5a4_row38_col3, #T_8f5a4_row38_col4, #T_8f5a4_row38_col5, #T_8f5a4_row38_col6, #T_8f5a4_row38_col7, #T_8f5a4_row39_col1, #T_8f5a4_row39_col2, #T_8f5a4_row39_col3, #T_8f5a4_row39_col4, #T_8f5a4_row39_col5, #T_8f5a4_row39_col6, #T_8f5a4_row39_col7, #T_8f5a4_row40_col1, #T_8f5a4_row40_col2, #T_8f5a4_row40_col3, #T_8f5a4_row40_col4, #T_8f5a4_row40_col5, #T_8f5a4_row40_col6, #T_8f5a4_row40_col7, #T_8f5a4_row41_col1, #T_8f5a4_row41_col2, #T_8f5a4_row41_col3, #T_8f5a4_row41_col4, #T_8f5a4_row41_col5, #T_8f5a4_row41_col6, #T_8f5a4_row41_col7, #T_8f5a4_row42_col1, #T_8f5a4_row42_col2, #T_8f5a4_row42_col3, #T_8f5a4_row42_col4, #T_8f5a4_row42_col5, #T_8f5a4_row42_col6, #T_8f5a4_row42_col7, #T_8f5a4_row43_col1, #T_8f5a4_row43_col2, #T_8f5a4_row43_col3, #T_8f5a4_row43_col4, #T_8f5a4_row43_col5, #T_8f5a4_row43_col6, #T_8f5a4_row43_col7, #T_8f5a4_row44_col1, #T_8f5a4_row44_col2, #T_8f5a4_row44_col3, #T_8f5a4_row44_col4, #T_8f5a4_row44_col5, #T_8f5a4_row44_col6, #T_8f5a4_row44_col7, #T_8f5a4_row45_col1, #T_8f5a4_row45_col2, #T_8f5a4_row45_col3, #T_8f5a4_row45_col4, #T_8f5a4_row45_col5, #T_8f5a4_row45_col6, #T_8f5a4_row45_col7, #T_8f5a4_row46_col2, #T_8f5a4_row46_col7, #T_8f5a4_row47_col1, #T_8f5a4_row47_col2, #T_8f5a4_row47_col3, #T_8f5a4_row47_col4, #T_8f5a4_row47_col5, #T_8f5a4_row47_col6, #T_8f5a4_row47_col7, #T_8f5a4_row48_col1, #T_8f5a4_row48_col2, #T_8f5a4_row48_col3, #T_8f5a4_row48_col4, #T_8f5a4_row48_col5, #T_8f5a4_row48_col6, #T_8f5a4_row48_col7, #T_8f5a4_row49_col1, #T_8f5a4_row49_col2, #T_8f5a4_row49_col3, #T_8f5a4_row49_col4, #T_8f5a4_row49_col5, #T_8f5a4_row49_col6, #T_8f5a4_row49_col7 {\n",
       "  background-color: #fdd9b4;\n",
       "  color: #000000;\n",
       "}\n",
       "#T_8f5a4_row5_col1, #T_8f5a4_row5_col2, #T_8f5a4_row5_col3, #T_8f5a4_row5_col4, #T_8f5a4_row5_col5, #T_8f5a4_row5_col6, #T_8f5a4_row5_col7 {\n",
       "  background-color: #f3701b;\n",
       "  color: #f1f1f1;\n",
       "}\n",
       "#T_8f5a4_row8_col3, #T_8f5a4_row8_col4, #T_8f5a4_row8_col5, #T_8f5a4_row8_col6, #T_8f5a4_row46_col1 {\n",
       "  background-color: #fdd8b2;\n",
       "  color: #000000;\n",
       "}\n",
       "#T_8f5a4_row46_col3, #T_8f5a4_row46_col4, #T_8f5a4_row46_col5, #T_8f5a4_row46_col6 {\n",
       "  background-color: #fdd7af;\n",
       "  color: #000000;\n",
       "}\n",
       "</style>\n",
       "<table id=\"T_8f5a4_\">\n",
       "  <thead>\n",
       "    <tr>\n",
       "      <th class=\"blank level0\" >&nbsp;</th>\n",
       "      <th class=\"col_heading level0 col0\" >count</th>\n",
       "      <th class=\"col_heading level0 col1\" >mean</th>\n",
       "      <th class=\"col_heading level0 col2\" >std</th>\n",
       "      <th class=\"col_heading level0 col3\" >min</th>\n",
       "      <th class=\"col_heading level0 col4\" >25%</th>\n",
       "      <th class=\"col_heading level0 col5\" >50%</th>\n",
       "      <th class=\"col_heading level0 col6\" >75%</th>\n",
       "      <th class=\"col_heading level0 col7\" >max</th>\n",
       "    </tr>\n",
       "  </thead>\n",
       "  <tbody>\n",
       "    <tr>\n",
       "      <th id=\"T_8f5a4_level0_row0\" class=\"row_heading level0 row0\" >f_1</th>\n",
       "      <td id=\"T_8f5a4_row0_col0\" class=\"data row0 col0\" >937.000000</td>\n",
       "      <td id=\"T_8f5a4_row0_col1\" class=\"data row0 col1\" >81.588047</td>\n",
       "      <td id=\"T_8f5a4_row0_col2\" class=\"data row0 col2\" >64.976730</td>\n",
       "      <td id=\"T_8f5a4_row0_col3\" class=\"data row0 col3\" >1.000000</td>\n",
       "      <td id=\"T_8f5a4_row0_col4\" class=\"data row0 col4\" >31.000000</td>\n",
       "      <td id=\"T_8f5a4_row0_col5\" class=\"data row0 col5\" >64.000000</td>\n",
       "      <td id=\"T_8f5a4_row0_col6\" class=\"data row0 col6\" >124.000000</td>\n",
       "      <td id=\"T_8f5a4_row0_col7\" class=\"data row0 col7\" >352.000000</td>\n",
       "    </tr>\n",
       "    <tr>\n",
       "      <th id=\"T_8f5a4_level0_row1\" class=\"row_heading level0 row1\" >f_2</th>\n",
       "      <td id=\"T_8f5a4_row1_col0\" class=\"data row1 col0\" >937.000000</td>\n",
       "      <td id=\"T_8f5a4_row1_col1\" class=\"data row1 col1\" >332.842049</td>\n",
       "      <td id=\"T_8f5a4_row1_col2\" class=\"data row1 col2\" >1931.938570</td>\n",
       "      <td id=\"T_8f5a4_row1_col3\" class=\"data row1 col3\" >10.000000</td>\n",
       "      <td id=\"T_8f5a4_row1_col4\" class=\"data row1 col4\" >20.000000</td>\n",
       "      <td id=\"T_8f5a4_row1_col5\" class=\"data row1 col5\" >65.000000</td>\n",
       "      <td id=\"T_8f5a4_row1_col6\" class=\"data row1 col6\" >132.000000</td>\n",
       "      <td id=\"T_8f5a4_row1_col7\" class=\"data row1 col7\" >32389.000000</td>\n",
       "    </tr>\n",
       "    <tr>\n",
       "      <th id=\"T_8f5a4_level0_row2\" class=\"row_heading level0 row2\" >f_3</th>\n",
       "      <td id=\"T_8f5a4_row2_col0\" class=\"data row2 col0\" >937.000000</td>\n",
       "      <td id=\"T_8f5a4_row2_col1\" class=\"data row2 col1\" >698.707086</td>\n",
       "      <td id=\"T_8f5a4_row2_col2\" class=\"data row2 col2\" >599.965577</td>\n",
       "      <td id=\"T_8f5a4_row2_col3\" class=\"data row2 col3\" >1.920000</td>\n",
       "      <td id=\"T_8f5a4_row2_col4\" class=\"data row2 col4\" >85.270000</td>\n",
       "      <td id=\"T_8f5a4_row2_col5\" class=\"data row2 col5\" >704.370000</td>\n",
       "      <td id=\"T_8f5a4_row2_col6\" class=\"data row2 col6\" >1223.480000</td>\n",
       "      <td id=\"T_8f5a4_row2_col7\" class=\"data row2 col7\" >1893.080000</td>\n",
       "    </tr>\n",
       "    <tr>\n",
       "      <th id=\"T_8f5a4_level0_row3\" class=\"row_heading level0 row3\" >f_4</th>\n",
       "      <td id=\"T_8f5a4_row3_col0\" class=\"data row3 col0\" >937.000000</td>\n",
       "      <td id=\"T_8f5a4_row3_col1\" class=\"data row3 col1\" >870.992209</td>\n",
       "      <td id=\"T_8f5a4_row3_col2\" class=\"data row3 col2\" >522.799325</td>\n",
       "      <td id=\"T_8f5a4_row3_col3\" class=\"data row3 col3\" >1.000000</td>\n",
       "      <td id=\"T_8f5a4_row3_col4\" class=\"data row3 col4\" >444.200000</td>\n",
       "      <td id=\"T_8f5a4_row3_col5\" class=\"data row3 col5\" >761.280000</td>\n",
       "      <td id=\"T_8f5a4_row3_col6\" class=\"data row3 col6\" >1260.370000</td>\n",
       "      <td id=\"T_8f5a4_row3_col7\" class=\"data row3 col7\" >2724.570000</td>\n",
       "    </tr>\n",
       "    <tr>\n",
       "      <th id=\"T_8f5a4_level0_row4\" class=\"row_heading level0 row4\" >f_5</th>\n",
       "      <td id=\"T_8f5a4_row4_col0\" class=\"data row4 col0\" >937.000000</td>\n",
       "      <td id=\"T_8f5a4_row4_col1\" class=\"data row4 col1\" >84.121665</td>\n",
       "      <td id=\"T_8f5a4_row4_col2\" class=\"data row4 col2\" >45.361771</td>\n",
       "      <td id=\"T_8f5a4_row4_col3\" class=\"data row4 col3\" >0.000000</td>\n",
       "      <td id=\"T_8f5a4_row4_col4\" class=\"data row4 col4\" >54.000000</td>\n",
       "      <td id=\"T_8f5a4_row4_col5\" class=\"data row4 col5\" >73.000000</td>\n",
       "      <td id=\"T_8f5a4_row4_col6\" class=\"data row4 col6\" >117.000000</td>\n",
       "      <td id=\"T_8f5a4_row4_col7\" class=\"data row4 col7\" >180.000000</td>\n",
       "    </tr>\n",
       "    <tr>\n",
       "      <th id=\"T_8f5a4_level0_row5\" class=\"row_heading level0 row5\" >f_6</th>\n",
       "      <td id=\"T_8f5a4_row5_col0\" class=\"data row5 col0\" >937.000000</td>\n",
       "      <td id=\"T_8f5a4_row5_col1\" class=\"data row5 col1\" >769696.378869</td>\n",
       "      <td id=\"T_8f5a4_row5_col2\" class=\"data row5 col2\" >3831151.032065</td>\n",
       "      <td id=\"T_8f5a4_row5_col3\" class=\"data row5 col3\" >70312.000000</td>\n",
       "      <td id=\"T_8f5a4_row5_col4\" class=\"data row5 col4\" >125000.000000</td>\n",
       "      <td id=\"T_8f5a4_row5_col5\" class=\"data row5 col5\" >186300.000000</td>\n",
       "      <td id=\"T_8f5a4_row5_col6\" class=\"data row5 col6\" >330468.000000</td>\n",
       "      <td id=\"T_8f5a4_row5_col7\" class=\"data row5 col7\" >71315000.000000</td>\n",
       "    </tr>\n",
       "    <tr>\n",
       "      <th id=\"T_8f5a4_level0_row6\" class=\"row_heading level0 row6\" >f_7</th>\n",
       "      <td id=\"T_8f5a4_row6_col0\" class=\"data row6 col0\" >937.000000</td>\n",
       "      <td id=\"T_8f5a4_row6_col1\" class=\"data row6 col1\" >43.242721</td>\n",
       "      <td id=\"T_8f5a4_row6_col2\" class=\"data row6 col2\" >12.718404</td>\n",
       "      <td id=\"T_8f5a4_row6_col3\" class=\"data row6 col3\" >21.240000</td>\n",
       "      <td id=\"T_8f5a4_row6_col4\" class=\"data row6 col4\" >33.650000</td>\n",
       "      <td id=\"T_8f5a4_row6_col5\" class=\"data row6 col5\" >39.970000</td>\n",
       "      <td id=\"T_8f5a4_row6_col6\" class=\"data row6 col6\" >52.420000</td>\n",
       "      <td id=\"T_8f5a4_row6_col7\" class=\"data row6 col7\" >82.640000</td>\n",
       "    </tr>\n",
       "    <tr>\n",
       "      <th id=\"T_8f5a4_level0_row7\" class=\"row_heading level0 row7\" >f_8</th>\n",
       "      <td id=\"T_8f5a4_row7_col0\" class=\"data row7 col0\" >937.000000</td>\n",
       "      <td id=\"T_8f5a4_row7_col1\" class=\"data row7 col1\" >9.127887</td>\n",
       "      <td id=\"T_8f5a4_row7_col2\" class=\"data row7 col2\" >3.588878</td>\n",
       "      <td id=\"T_8f5a4_row7_col3\" class=\"data row7 col3\" >0.830000</td>\n",
       "      <td id=\"T_8f5a4_row7_col4\" class=\"data row7 col4\" >6.750000</td>\n",
       "      <td id=\"T_8f5a4_row7_col5\" class=\"data row7 col5\" >8.200000</td>\n",
       "      <td id=\"T_8f5a4_row7_col6\" class=\"data row7 col6\" >10.760000</td>\n",
       "      <td id=\"T_8f5a4_row7_col7\" class=\"data row7 col7\" >24.690000</td>\n",
       "    </tr>\n",
       "    <tr>\n",
       "      <th id=\"T_8f5a4_level0_row8\" class=\"row_heading level0 row8\" >f_9</th>\n",
       "      <td id=\"T_8f5a4_row8_col0\" class=\"data row8 col0\" >937.000000</td>\n",
       "      <td id=\"T_8f5a4_row8_col1\" class=\"data row8 col1\" >3940.712914</td>\n",
       "      <td id=\"T_8f5a4_row8_col2\" class=\"data row8 col2\" >8167.427625</td>\n",
       "      <td id=\"T_8f5a4_row8_col3\" class=\"data row8 col3\" >667.000000</td>\n",
       "      <td id=\"T_8f5a4_row8_col4\" class=\"data row8 col4\" >1371.000000</td>\n",
       "      <td id=\"T_8f5a4_row8_col5\" class=\"data row8 col5\" >2090.000000</td>\n",
       "      <td id=\"T_8f5a4_row8_col6\" class=\"data row8 col6\" >3435.000000</td>\n",
       "      <td id=\"T_8f5a4_row8_col7\" class=\"data row8 col7\" >160740.000000</td>\n",
       "    </tr>\n",
       "    <tr>\n",
       "      <th id=\"T_8f5a4_level0_row9\" class=\"row_heading level0 row9\" >f_10</th>\n",
       "      <td id=\"T_8f5a4_row9_col0\" class=\"data row9 col0\" >937.000000</td>\n",
       "      <td id=\"T_8f5a4_row9_col1\" class=\"data row9 col1\" >0.221003</td>\n",
       "      <td id=\"T_8f5a4_row9_col2\" class=\"data row9 col2\" >0.090316</td>\n",
       "      <td id=\"T_8f5a4_row9_col3\" class=\"data row9 col3\" >0.020000</td>\n",
       "      <td id=\"T_8f5a4_row9_col4\" class=\"data row9 col4\" >0.160000</td>\n",
       "      <td id=\"T_8f5a4_row9_col5\" class=\"data row9 col5\" >0.200000</td>\n",
       "      <td id=\"T_8f5a4_row9_col6\" class=\"data row9 col6\" >0.260000</td>\n",
       "      <td id=\"T_8f5a4_row9_col7\" class=\"data row9 col7\" >0.740000</td>\n",
       "    </tr>\n",
       "    <tr>\n",
       "      <th id=\"T_8f5a4_level0_row10\" class=\"row_heading level0 row10\" >f_11</th>\n",
       "      <td id=\"T_8f5a4_row10_col0\" class=\"data row10 col0\" >937.000000</td>\n",
       "      <td id=\"T_8f5a4_row10_col1\" class=\"data row10 col1\" >109.892743</td>\n",
       "      <td id=\"T_8f5a4_row10_col2\" class=\"data row10 col2\" >61.460846</td>\n",
       "      <td id=\"T_8f5a4_row10_col3\" class=\"data row10 col3\" >41.000000</td>\n",
       "      <td id=\"T_8f5a4_row10_col4\" class=\"data row10 col4\" >83.500000</td>\n",
       "      <td id=\"T_8f5a4_row10_col5\" class=\"data row10 col5\" >99.800000</td>\n",
       "      <td id=\"T_8f5a4_row10_col6\" class=\"data row10 col6\" >115.400000</td>\n",
       "      <td id=\"T_8f5a4_row10_col7\" class=\"data row10 col7\" >901.700000</td>\n",
       "    </tr>\n",
       "    <tr>\n",
       "      <th id=\"T_8f5a4_level0_row11\" class=\"row_heading level0 row11\" >f_12</th>\n",
       "      <td id=\"T_8f5a4_row11_col0\" class=\"data row11 col0\" >937.000000</td>\n",
       "      <td id=\"T_8f5a4_row11_col1\" class=\"data row11 col1\" >0.251441</td>\n",
       "      <td id=\"T_8f5a4_row11_col2\" class=\"data row11 col2\" >0.088132</td>\n",
       "      <td id=\"T_8f5a4_row11_col3\" class=\"data row11 col3\" >0.020000</td>\n",
       "      <td id=\"T_8f5a4_row11_col4\" class=\"data row11 col4\" >0.200000</td>\n",
       "      <td id=\"T_8f5a4_row11_col5\" class=\"data row11 col5\" >0.240000</td>\n",
       "      <td id=\"T_8f5a4_row11_col6\" class=\"data row11 col6\" >0.290000</td>\n",
       "      <td id=\"T_8f5a4_row11_col7\" class=\"data row11 col7\" >0.660000</td>\n",
       "    </tr>\n",
       "    <tr>\n",
       "      <th id=\"T_8f5a4_level0_row12\" class=\"row_heading level0 row12\" >f_13</th>\n",
       "      <td id=\"T_8f5a4_row12_col0\" class=\"data row12 col0\" >937.000000</td>\n",
       "      <td id=\"T_8f5a4_row12_col1\" class=\"data row12 col1\" >0.311217</td>\n",
       "      <td id=\"T_8f5a4_row12_col2\" class=\"data row12 col2\" >0.121386</td>\n",
       "      <td id=\"T_8f5a4_row12_col3\" class=\"data row12 col3\" >0.030000</td>\n",
       "      <td id=\"T_8f5a4_row12_col4\" class=\"data row12 col4\" >0.240000</td>\n",
       "      <td id=\"T_8f5a4_row12_col5\" class=\"data row12 col5\" >0.290000</td>\n",
       "      <td id=\"T_8f5a4_row12_col6\" class=\"data row12 col6\" >0.350000</td>\n",
       "      <td id=\"T_8f5a4_row12_col7\" class=\"data row12 col7\" >0.830000</td>\n",
       "    </tr>\n",
       "    <tr>\n",
       "      <th id=\"T_8f5a4_level0_row13\" class=\"row_heading level0 row13\" >f_14</th>\n",
       "      <td id=\"T_8f5a4_row13_col0\" class=\"data row13 col0\" >937.000000</td>\n",
       "      <td id=\"T_8f5a4_row13_col1\" class=\"data row13 col1\" >0.484664</td>\n",
       "      <td id=\"T_8f5a4_row13_col2\" class=\"data row13 col2\" >0.216859</td>\n",
       "      <td id=\"T_8f5a4_row13_col3\" class=\"data row13 col3\" >0.050000</td>\n",
       "      <td id=\"T_8f5a4_row13_col4\" class=\"data row13 col4\" >0.330000</td>\n",
       "      <td id=\"T_8f5a4_row13_col5\" class=\"data row13 col5\" >0.430000</td>\n",
       "      <td id=\"T_8f5a4_row13_col6\" class=\"data row13 col6\" >0.610000</td>\n",
       "      <td id=\"T_8f5a4_row13_col7\" class=\"data row13 col7\" >1.230000</td>\n",
       "    </tr>\n",
       "    <tr>\n",
       "      <th id=\"T_8f5a4_level0_row14\" class=\"row_heading level0 row14\" >f_15</th>\n",
       "      <td id=\"T_8f5a4_row14_col0\" class=\"data row14 col0\" >937.000000</td>\n",
       "      <td id=\"T_8f5a4_row14_col1\" class=\"data row14 col1\" >0.182892</td>\n",
       "      <td id=\"T_8f5a4_row14_col2\" class=\"data row14 col2\" >0.082943</td>\n",
       "      <td id=\"T_8f5a4_row14_col3\" class=\"data row14 col3\" >0.010000</td>\n",
       "      <td id=\"T_8f5a4_row14_col4\" class=\"data row14 col4\" >0.130000</td>\n",
       "      <td id=\"T_8f5a4_row14_col5\" class=\"data row14 col5\" >0.170000</td>\n",
       "      <td id=\"T_8f5a4_row14_col6\" class=\"data row14 col6\" >0.220000</td>\n",
       "      <td id=\"T_8f5a4_row14_col7\" class=\"data row14 col7\" >0.650000</td>\n",
       "    </tr>\n",
       "    <tr>\n",
       "      <th id=\"T_8f5a4_level0_row15\" class=\"row_heading level0 row15\" >f_16</th>\n",
       "      <td id=\"T_8f5a4_row15_col0\" class=\"data row15 col0\" >937.000000</td>\n",
       "      <td id=\"T_8f5a4_row15_col1\" class=\"data row15 col1\" >0.301932</td>\n",
       "      <td id=\"T_8f5a4_row15_col2\" class=\"data row15 col2\" >0.204695</td>\n",
       "      <td id=\"T_8f5a4_row15_col3\" class=\"data row15 col3\" >0.010000</td>\n",
       "      <td id=\"T_8f5a4_row15_col4\" class=\"data row15 col4\" >0.130000</td>\n",
       "      <td id=\"T_8f5a4_row15_col5\" class=\"data row15 col5\" >0.270000</td>\n",
       "      <td id=\"T_8f5a4_row15_col6\" class=\"data row15 col6\" >0.410000</td>\n",
       "      <td id=\"T_8f5a4_row15_col7\" class=\"data row15 col7\" >1.120000</td>\n",
       "    </tr>\n",
       "    <tr>\n",
       "      <th id=\"T_8f5a4_level0_row16\" class=\"row_heading level0 row16\" >f_17</th>\n",
       "      <td id=\"T_8f5a4_row16_col0\" class=\"data row16 col0\" >937.000000</td>\n",
       "      <td id=\"T_8f5a4_row16_col1\" class=\"data row16 col1\" >77.412561</td>\n",
       "      <td id=\"T_8f5a4_row16_col2\" class=\"data row16 col2\" >304.329842</td>\n",
       "      <td id=\"T_8f5a4_row16_col3\" class=\"data row16 col3\" >4.820000</td>\n",
       "      <td id=\"T_8f5a4_row16_col4\" class=\"data row16 col4\" >21.090000</td>\n",
       "      <td id=\"T_8f5a4_row16_col5\" class=\"data row16 col5\" >34.720000</td>\n",
       "      <td id=\"T_8f5a4_row16_col6\" class=\"data row16 col6\" >65.950000</td>\n",
       "      <td id=\"T_8f5a4_row16_col7\" class=\"data row16 col7\" >6058.230000</td>\n",
       "    </tr>\n",
       "    <tr>\n",
       "      <th id=\"T_8f5a4_level0_row17\" class=\"row_heading level0 row17\" >f_18</th>\n",
       "      <td id=\"T_8f5a4_row17_col0\" class=\"data row17 col0\" >937.000000</td>\n",
       "      <td id=\"T_8f5a4_row17_col1\" class=\"data row17 col1\" >31.151921</td>\n",
       "      <td id=\"T_8f5a4_row17_col2\" class=\"data row17 col2\" >152.693334</td>\n",
       "      <td id=\"T_8f5a4_row17_col3\" class=\"data row17 col3\" >1.960000</td>\n",
       "      <td id=\"T_8f5a4_row17_col4\" class=\"data row17 col4\" >11.680000</td>\n",
       "      <td id=\"T_8f5a4_row17_col5\" class=\"data row17 col5\" >16.490000</td>\n",
       "      <td id=\"T_8f5a4_row17_col6\" class=\"data row17 col6\" >24.750000</td>\n",
       "      <td id=\"T_8f5a4_row17_col7\" class=\"data row17 col7\" >4061.150000</td>\n",
       "    </tr>\n",
       "    <tr>\n",
       "      <th id=\"T_8f5a4_level0_row18\" class=\"row_heading level0 row18\" >f_19</th>\n",
       "      <td id=\"T_8f5a4_row18_col0\" class=\"data row18 col0\" >937.000000</td>\n",
       "      <td id=\"T_8f5a4_row18_col1\" class=\"data row18 col1\" >0.909039</td>\n",
       "      <td id=\"T_8f5a4_row18_col2\" class=\"data row18 col2\" >0.675492</td>\n",
       "      <td id=\"T_8f5a4_row18_col3\" class=\"data row18 col3\" >0.130000</td>\n",
       "      <td id=\"T_8f5a4_row18_col4\" class=\"data row18 col4\" >0.370000</td>\n",
       "      <td id=\"T_8f5a4_row18_col5\" class=\"data row18 col5\" >0.700000</td>\n",
       "      <td id=\"T_8f5a4_row18_col6\" class=\"data row18 col6\" >1.060000</td>\n",
       "      <td id=\"T_8f5a4_row18_col7\" class=\"data row18 col7\" >2.600000</td>\n",
       "    </tr>\n",
       "    <tr>\n",
       "      <th id=\"T_8f5a4_level0_row19\" class=\"row_heading level0 row19\" >f_20</th>\n",
       "      <td id=\"T_8f5a4_row19_col0\" class=\"data row19 col0\" >937.000000</td>\n",
       "      <td id=\"T_8f5a4_row19_col1\" class=\"data row19 col1\" >0.228815</td>\n",
       "      <td id=\"T_8f5a4_row19_col2\" class=\"data row19 col2\" >0.075410</td>\n",
       "      <td id=\"T_8f5a4_row19_col3\" class=\"data row19 col3\" >0.020000</td>\n",
       "      <td id=\"T_8f5a4_row19_col4\" class=\"data row19 col4\" >0.180000</td>\n",
       "      <td id=\"T_8f5a4_row19_col5\" class=\"data row19 col5\" >0.220000</td>\n",
       "      <td id=\"T_8f5a4_row19_col6\" class=\"data row19 col6\" >0.270000</td>\n",
       "      <td id=\"T_8f5a4_row19_col7\" class=\"data row19 col7\" >0.650000</td>\n",
       "    </tr>\n",
       "    <tr>\n",
       "      <th id=\"T_8f5a4_level0_row20\" class=\"row_heading level0 row20\" >f_21</th>\n",
       "      <td id=\"T_8f5a4_row20_col0\" class=\"data row20 col0\" >937.000000</td>\n",
       "      <td id=\"T_8f5a4_row20_col1\" class=\"data row20 col1\" >0.289317</td>\n",
       "      <td id=\"T_8f5a4_row20_col2\" class=\"data row20 col2\" >0.105366</td>\n",
       "      <td id=\"T_8f5a4_row20_col3\" class=\"data row20 col3\" >0.020000</td>\n",
       "      <td id=\"T_8f5a4_row20_col4\" class=\"data row20 col4\" >0.230000</td>\n",
       "      <td id=\"T_8f5a4_row20_col5\" class=\"data row20 col5\" >0.270000</td>\n",
       "      <td id=\"T_8f5a4_row20_col6\" class=\"data row20 col6\" >0.320000</td>\n",
       "      <td id=\"T_8f5a4_row20_col7\" class=\"data row20 col7\" >0.770000</td>\n",
       "    </tr>\n",
       "    <tr>\n",
       "      <th id=\"T_8f5a4_level0_row21\" class=\"row_heading level0 row21\" >f_22</th>\n",
       "      <td id=\"T_8f5a4_row21_col0\" class=\"data row21 col0\" >937.000000</td>\n",
       "      <td id=\"T_8f5a4_row21_col1\" class=\"data row21 col1\" >76.085624</td>\n",
       "      <td id=\"T_8f5a4_row21_col2\" class=\"data row21 col2\" >22.937473</td>\n",
       "      <td id=\"T_8f5a4_row21_col3\" class=\"data row21 col3\" >47.660000</td>\n",
       "      <td id=\"T_8f5a4_row21_col4\" class=\"data row21 col4\" >55.850000</td>\n",
       "      <td id=\"T_8f5a4_row21_col5\" class=\"data row21 col5\" >69.090000</td>\n",
       "      <td id=\"T_8f5a4_row21_col6\" class=\"data row21 col6\" >85.220000</td>\n",
       "      <td id=\"T_8f5a4_row21_col7\" class=\"data row21 col7\" >126.080000</td>\n",
       "    </tr>\n",
       "    <tr>\n",
       "      <th id=\"T_8f5a4_level0_row22\" class=\"row_heading level0 row22\" >f_23</th>\n",
       "      <td id=\"T_8f5a4_row22_col0\" class=\"data row22 col0\" >937.000000</td>\n",
       "      <td id=\"T_8f5a4_row22_col1\" class=\"data row22 col1\" >0.000000</td>\n",
       "      <td id=\"T_8f5a4_row22_col2\" class=\"data row22 col2\" >0.000000</td>\n",
       "      <td id=\"T_8f5a4_row22_col3\" class=\"data row22 col3\" >0.000000</td>\n",
       "      <td id=\"T_8f5a4_row22_col4\" class=\"data row22 col4\" >0.000000</td>\n",
       "      <td id=\"T_8f5a4_row22_col5\" class=\"data row22 col5\" >0.000000</td>\n",
       "      <td id=\"T_8f5a4_row22_col6\" class=\"data row22 col6\" >0.000000</td>\n",
       "      <td id=\"T_8f5a4_row22_col7\" class=\"data row22 col7\" >0.000000</td>\n",
       "    </tr>\n",
       "    <tr>\n",
       "      <th id=\"T_8f5a4_level0_row23\" class=\"row_heading level0 row23\" >f_24</th>\n",
       "      <td id=\"T_8f5a4_row23_col0\" class=\"data row23 col0\" >937.000000</td>\n",
       "      <td id=\"T_8f5a4_row23_col1\" class=\"data row23 col1\" >0.642177</td>\n",
       "      <td id=\"T_8f5a4_row23_col2\" class=\"data row23 col2\" >0.299945</td>\n",
       "      <td id=\"T_8f5a4_row23_col3\" class=\"data row23 col3\" >0.170000</td>\n",
       "      <td id=\"T_8f5a4_row23_col4\" class=\"data row23 col4\" >0.450000</td>\n",
       "      <td id=\"T_8f5a4_row23_col5\" class=\"data row23 col5\" >0.500000</td>\n",
       "      <td id=\"T_8f5a4_row23_col6\" class=\"data row23 col6\" >0.960000</td>\n",
       "      <td id=\"T_8f5a4_row23_col7\" class=\"data row23 col7\" >1.330000</td>\n",
       "    </tr>\n",
       "    <tr>\n",
       "      <th id=\"T_8f5a4_level0_row24\" class=\"row_heading level0 row24\" >f_25</th>\n",
       "      <td id=\"T_8f5a4_row24_col0\" class=\"data row24 col0\" >937.000000</td>\n",
       "      <td id=\"T_8f5a4_row24_col1\" class=\"data row24 col1\" >559.910694</td>\n",
       "      <td id=\"T_8f5a4_row24_col2\" class=\"data row24 col2\" >612.459280</td>\n",
       "      <td id=\"T_8f5a4_row24_col3\" class=\"data row24 col3\" >132.780000</td>\n",
       "      <td id=\"T_8f5a4_row24_col4\" class=\"data row24 col4\" >221.970000</td>\n",
       "      <td id=\"T_8f5a4_row24_col5\" class=\"data row24 col5\" >351.670000</td>\n",
       "      <td id=\"T_8f5a4_row24_col6\" class=\"data row24 col6\" >422.120000</td>\n",
       "      <td id=\"T_8f5a4_row24_col7\" class=\"data row24 col7\" >2036.800000</td>\n",
       "    </tr>\n",
       "    <tr>\n",
       "      <th id=\"T_8f5a4_level0_row25\" class=\"row_heading level0 row25\" >f_26</th>\n",
       "      <td id=\"T_8f5a4_row25_col0\" class=\"data row25 col0\" >937.000000</td>\n",
       "      <td id=\"T_8f5a4_row25_col1\" class=\"data row25 col1\" >0.578292</td>\n",
       "      <td id=\"T_8f5a4_row25_col2\" class=\"data row25 col2\" >0.702157</td>\n",
       "      <td id=\"T_8f5a4_row25_col3\" class=\"data row25 col3\" >-0.710000</td>\n",
       "      <td id=\"T_8f5a4_row25_col4\" class=\"data row25 col4\" >0.180000</td>\n",
       "      <td id=\"T_8f5a4_row25_col5\" class=\"data row25 col5\" >0.870000</td>\n",
       "      <td id=\"T_8f5a4_row25_col6\" class=\"data row25 col6\" >1.010000</td>\n",
       "      <td id=\"T_8f5a4_row25_col7\" class=\"data row25 col7\" >1.830000</td>\n",
       "    </tr>\n",
       "    <tr>\n",
       "      <th id=\"T_8f5a4_level0_row26\" class=\"row_heading level0 row26\" >f_27</th>\n",
       "      <td id=\"T_8f5a4_row26_col0\" class=\"data row26 col0\" >937.000000</td>\n",
       "      <td id=\"T_8f5a4_row26_col1\" class=\"data row26 col1\" >7.498196</td>\n",
       "      <td id=\"T_8f5a4_row26_col2\" class=\"data row26 col2\" >3.967966</td>\n",
       "      <td id=\"T_8f5a4_row26_col3\" class=\"data row26 col3\" >2.960000</td>\n",
       "      <td id=\"T_8f5a4_row26_col4\" class=\"data row26 col4\" >4.660000</td>\n",
       "      <td id=\"T_8f5a4_row26_col5\" class=\"data row26 col5\" >5.070000</td>\n",
       "      <td id=\"T_8f5a4_row26_col6\" class=\"data row26 col6\" >12.060000</td>\n",
       "      <td id=\"T_8f5a4_row26_col7\" class=\"data row26 col7\" >14.780000</td>\n",
       "    </tr>\n",
       "    <tr>\n",
       "      <th id=\"T_8f5a4_level0_row27\" class=\"row_heading level0 row27\" >f_28</th>\n",
       "      <td id=\"T_8f5a4_row27_col0\" class=\"data row27 col0\" >937.000000</td>\n",
       "      <td id=\"T_8f5a4_row27_col1\" class=\"data row27 col1\" >0.608399</td>\n",
       "      <td id=\"T_8f5a4_row27_col2\" class=\"data row27 col2\" >0.845222</td>\n",
       "      <td id=\"T_8f5a4_row27_col3\" class=\"data row27 col3\" >-1.790000</td>\n",
       "      <td id=\"T_8f5a4_row27_col4\" class=\"data row27 col4\" >0.090000</td>\n",
       "      <td id=\"T_8f5a4_row27_col5\" class=\"data row27 col5\" >0.480000</td>\n",
       "      <td id=\"T_8f5a4_row27_col6\" class=\"data row27 col6\" >0.980000</td>\n",
       "      <td id=\"T_8f5a4_row27_col7\" class=\"data row27 col7\" >5.720000</td>\n",
       "    </tr>\n",
       "    <tr>\n",
       "      <th id=\"T_8f5a4_level0_row28\" class=\"row_heading level0 row28\" >f_29</th>\n",
       "      <td id=\"T_8f5a4_row28_col0\" class=\"data row28 col0\" >937.000000</td>\n",
       "      <td id=\"T_8f5a4_row28_col1\" class=\"data row28 col1\" >4.271110</td>\n",
       "      <td id=\"T_8f5a4_row28_col2\" class=\"data row28 col2\" >3.619406</td>\n",
       "      <td id=\"T_8f5a4_row28_col3\" class=\"data row28 col3\" >1.440000</td>\n",
       "      <td id=\"T_8f5a4_row28_col4\" class=\"data row28 col4\" >2.640000</td>\n",
       "      <td id=\"T_8f5a4_row28_col5\" class=\"data row28 col5\" >3.330000</td>\n",
       "      <td id=\"T_8f5a4_row28_col6\" class=\"data row28 col6\" >4.500000</td>\n",
       "      <td id=\"T_8f5a4_row28_col7\" class=\"data row28 col7\" >39.420000</td>\n",
       "    </tr>\n",
       "    <tr>\n",
       "      <th id=\"T_8f5a4_level0_row29\" class=\"row_heading level0 row29\" >f_30</th>\n",
       "      <td id=\"T_8f5a4_row29_col0\" class=\"data row29 col0\" >937.000000</td>\n",
       "      <td id=\"T_8f5a4_row29_col1\" class=\"data row29 col1\" >-2.828420</td>\n",
       "      <td id=\"T_8f5a4_row29_col2\" class=\"data row29 col2\" >1.621832</td>\n",
       "      <td id=\"T_8f5a4_row29_col3\" class=\"data row29 col3\" >-7.810000</td>\n",
       "      <td id=\"T_8f5a4_row29_col4\" class=\"data row29 col4\" >-3.250000</td>\n",
       "      <td id=\"T_8f5a4_row29_col5\" class=\"data row29 col5\" >-2.780000</td>\n",
       "      <td id=\"T_8f5a4_row29_col6\" class=\"data row29 col6\" >-1.620000</td>\n",
       "      <td id=\"T_8f5a4_row29_col7\" class=\"data row29 col7\" >1.280000</td>\n",
       "    </tr>\n",
       "    <tr>\n",
       "      <th id=\"T_8f5a4_level0_row30\" class=\"row_heading level0 row30\" >f_31</th>\n",
       "      <td id=\"T_8f5a4_row30_col0\" class=\"data row30 col0\" >937.000000</td>\n",
       "      <td id=\"T_8f5a4_row30_col1\" class=\"data row30 col1\" >-0.428869</td>\n",
       "      <td id=\"T_8f5a4_row30_col2\" class=\"data row30 col2\" >0.215617</td>\n",
       "      <td id=\"T_8f5a4_row30_col3\" class=\"data row30 col3\" >-1.370000</td>\n",
       "      <td id=\"T_8f5a4_row30_col4\" class=\"data row30 col4\" >-0.530000</td>\n",
       "      <td id=\"T_8f5a4_row30_col5\" class=\"data row30 col5\" >-0.380000</td>\n",
       "      <td id=\"T_8f5a4_row30_col6\" class=\"data row30 col6\" >-0.280000</td>\n",
       "      <td id=\"T_8f5a4_row30_col7\" class=\"data row30 col7\" >0.000000</td>\n",
       "    </tr>\n",
       "    <tr>\n",
       "      <th id=\"T_8f5a4_level0_row31\" class=\"row_heading level0 row31\" >f_32</th>\n",
       "      <td id=\"T_8f5a4_row31_col0\" class=\"data row31 col0\" >937.000000</td>\n",
       "      <td id=\"T_8f5a4_row31_col1\" class=\"data row31 col1\" >1.824589</td>\n",
       "      <td id=\"T_8f5a4_row31_col2\" class=\"data row31 col2\" >0.638722</td>\n",
       "      <td id=\"T_8f5a4_row31_col3\" class=\"data row31 col3\" >0.000000</td>\n",
       "      <td id=\"T_8f5a4_row31_col4\" class=\"data row31 col4\" >1.220000</td>\n",
       "      <td id=\"T_8f5a4_row31_col5\" class=\"data row31 col5\" >1.950000</td>\n",
       "      <td id=\"T_8f5a4_row31_col6\" class=\"data row31 col6\" >2.170000</td>\n",
       "      <td id=\"T_8f5a4_row31_col7\" class=\"data row31 col7\" >2.980000</td>\n",
       "    </tr>\n",
       "    <tr>\n",
       "      <th id=\"T_8f5a4_level0_row32\" class=\"row_heading level0 row32\" >f_33</th>\n",
       "      <td id=\"T_8f5a4_row32_col0\" class=\"data row32 col0\" >937.000000</td>\n",
       "      <td id=\"T_8f5a4_row32_col1\" class=\"data row32 col1\" >0.002785</td>\n",
       "      <td id=\"T_8f5a4_row32_col2\" class=\"data row32 col2\" >0.048988</td>\n",
       "      <td id=\"T_8f5a4_row32_col3\" class=\"data row32 col3\" >0.000000</td>\n",
       "      <td id=\"T_8f5a4_row32_col4\" class=\"data row32 col4\" >0.000000</td>\n",
       "      <td id=\"T_8f5a4_row32_col5\" class=\"data row32 col5\" >0.000000</td>\n",
       "      <td id=\"T_8f5a4_row32_col6\" class=\"data row32 col6\" >0.000000</td>\n",
       "      <td id=\"T_8f5a4_row32_col7\" class=\"data row32 col7\" >0.870000</td>\n",
       "    </tr>\n",
       "    <tr>\n",
       "      <th id=\"T_8f5a4_level0_row33\" class=\"row_heading level0 row33\" >f_34</th>\n",
       "      <td id=\"T_8f5a4_row33_col0\" class=\"data row33 col0\" >937.000000</td>\n",
       "      <td id=\"T_8f5a4_row33_col1\" class=\"data row33 col1\" >1.821793</td>\n",
       "      <td id=\"T_8f5a4_row33_col2\" class=\"data row33 col2\" >0.643398</td>\n",
       "      <td id=\"T_8f5a4_row33_col3\" class=\"data row33 col3\" >0.000000</td>\n",
       "      <td id=\"T_8f5a4_row33_col4\" class=\"data row33 col4\" >1.210000</td>\n",
       "      <td id=\"T_8f5a4_row33_col5\" class=\"data row33 col5\" >1.950000</td>\n",
       "      <td id=\"T_8f5a4_row33_col6\" class=\"data row33 col6\" >2.170000</td>\n",
       "      <td id=\"T_8f5a4_row33_col7\" class=\"data row33 col7\" >2.980000</td>\n",
       "    </tr>\n",
       "    <tr>\n",
       "      <th id=\"T_8f5a4_level0_row34\" class=\"row_heading level0 row34\" >f_35</th>\n",
       "      <td id=\"T_8f5a4_row34_col0\" class=\"data row34 col0\" >937.000000</td>\n",
       "      <td id=\"T_8f5a4_row34_col1\" class=\"data row34 col1\" >43.086446</td>\n",
       "      <td id=\"T_8f5a4_row34_col2\" class=\"data row34 col2\" >95.167329</td>\n",
       "      <td id=\"T_8f5a4_row34_col3\" class=\"data row34 col3\" >3.000000</td>\n",
       "      <td id=\"T_8f5a4_row34_col4\" class=\"data row34 col4\" >12.000000</td>\n",
       "      <td id=\"T_8f5a4_row34_col5\" class=\"data row34 col5\" >23.000000</td>\n",
       "      <td id=\"T_8f5a4_row34_col6\" class=\"data row34 col6\" >39.000000</td>\n",
       "      <td id=\"T_8f5a4_row34_col7\" class=\"data row34 col7\" >1695.000000</td>\n",
       "    </tr>\n",
       "    <tr>\n",
       "      <th id=\"T_8f5a4_level0_row35\" class=\"row_heading level0 row35\" >f_36</th>\n",
       "      <td id=\"T_8f5a4_row35_col0\" class=\"data row35 col0\" >937.000000</td>\n",
       "      <td id=\"T_8f5a4_row35_col1\" class=\"data row35 col1\" >2432.689434</td>\n",
       "      <td id=\"T_8f5a4_row35_col2\" class=\"data row35 col2\" >5219.377585</td>\n",
       "      <td id=\"T_8f5a4_row35_col3\" class=\"data row35 col3\" >360.000000</td>\n",
       "      <td id=\"T_8f5a4_row35_col4\" class=\"data row35 col4\" >720.000000</td>\n",
       "      <td id=\"T_8f5a4_row35_col5\" class=\"data row35 col5\" >1350.000000</td>\n",
       "      <td id=\"T_8f5a4_row35_col6\" class=\"data row35 col6\" >2160.000000</td>\n",
       "      <td id=\"T_8f5a4_row35_col7\" class=\"data row35 col7\" >95310.000000</td>\n",
       "    </tr>\n",
       "    <tr>\n",
       "      <th id=\"T_8f5a4_level0_row36\" class=\"row_heading level0 row36\" >f_37</th>\n",
       "      <td id=\"T_8f5a4_row36_col0\" class=\"data row36 col0\" >937.000000</td>\n",
       "      <td id=\"T_8f5a4_row36_col1\" class=\"data row36 col1\" >0.006894</td>\n",
       "      <td id=\"T_8f5a4_row36_col2\" class=\"data row36 col2\" >0.005337</td>\n",
       "      <td id=\"T_8f5a4_row36_col3\" class=\"data row36 col3\" >0.000000</td>\n",
       "      <td id=\"T_8f5a4_row36_col4\" class=\"data row36 col4\" >0.000000</td>\n",
       "      <td id=\"T_8f5a4_row36_col5\" class=\"data row36 col5\" >0.010000</td>\n",
       "      <td id=\"T_8f5a4_row36_col6\" class=\"data row36 col6\" >0.010000</td>\n",
       "      <td id=\"T_8f5a4_row36_col7\" class=\"data row36 col7\" >0.020000</td>\n",
       "    </tr>\n",
       "    <tr>\n",
       "      <th id=\"T_8f5a4_level0_row37\" class=\"row_heading level0 row37\" >f_38</th>\n",
       "      <td id=\"T_8f5a4_row37_col0\" class=\"data row37 col0\" >937.000000</td>\n",
       "      <td id=\"T_8f5a4_row37_col1\" class=\"data row37 col1\" >31.241857</td>\n",
       "      <td id=\"T_8f5a4_row37_col2\" class=\"data row37 col2\" >31.584838</td>\n",
       "      <td id=\"T_8f5a4_row37_col3\" class=\"data row37 col3\" >5.050000</td>\n",
       "      <td id=\"T_8f5a4_row37_col4\" class=\"data row37 col4\" >13.450000</td>\n",
       "      <td id=\"T_8f5a4_row37_col5\" class=\"data row37 col5\" >23.630000</td>\n",
       "      <td id=\"T_8f5a4_row37_col6\" class=\"data row37 col6\" >37.760000</td>\n",
       "      <td id=\"T_8f5a4_row37_col7\" class=\"data row37 col7\" >441.230000</td>\n",
       "    </tr>\n",
       "    <tr>\n",
       "      <th id=\"T_8f5a4_level0_row38\" class=\"row_heading level0 row38\" >f_39</th>\n",
       "      <td id=\"T_8f5a4_row38_col0\" class=\"data row38 col0\" >937.000000</td>\n",
       "      <td id=\"T_8f5a4_row38_col1\" class=\"data row38 col1\" >91.189968</td>\n",
       "      <td id=\"T_8f5a4_row38_col2\" class=\"data row38 col2\" >21.984410</td>\n",
       "      <td id=\"T_8f5a4_row38_col3\" class=\"data row38 col3\" >64.000000</td>\n",
       "      <td id=\"T_8f5a4_row38_col4\" class=\"data row38 col4\" >78.000000</td>\n",
       "      <td id=\"T_8f5a4_row38_col5\" class=\"data row38 col5\" >82.000000</td>\n",
       "      <td id=\"T_8f5a4_row38_col6\" class=\"data row38 col6\" >99.000000</td>\n",
       "      <td id=\"T_8f5a4_row38_col7\" class=\"data row38 col7\" >143.000000</td>\n",
       "    </tr>\n",
       "    <tr>\n",
       "      <th id=\"T_8f5a4_level0_row39\" class=\"row_heading level0 row39\" >f_40</th>\n",
       "      <td id=\"T_8f5a4_row39_col0\" class=\"data row39 col0\" >937.000000</td>\n",
       "      <td id=\"T_8f5a4_row39_col1\" class=\"data row39 col1\" >60.547492</td>\n",
       "      <td id=\"T_8f5a4_row39_col2\" class=\"data row39 col2\" >13.838898</td>\n",
       "      <td id=\"T_8f5a4_row39_col3\" class=\"data row39 col3\" >39.000000</td>\n",
       "      <td id=\"T_8f5a4_row39_col4\" class=\"data row39 col4\" >50.000000</td>\n",
       "      <td id=\"T_8f5a4_row39_col5\" class=\"data row39 col5\" >55.000000</td>\n",
       "      <td id=\"T_8f5a4_row39_col6\" class=\"data row39 col6\" >67.000000</td>\n",
       "      <td id=\"T_8f5a4_row39_col7\" class=\"data row39 col7\" >86.000000</td>\n",
       "    </tr>\n",
       "    <tr>\n",
       "      <th id=\"T_8f5a4_level0_row40\" class=\"row_heading level0 row40\" >f_41</th>\n",
       "      <td id=\"T_8f5a4_row40_col0\" class=\"data row40 col0\" >937.000000</td>\n",
       "      <td id=\"T_8f5a4_row40_col1\" class=\"data row40 col1\" >933.928677</td>\n",
       "      <td id=\"T_8f5a4_row40_col2\" class=\"data row40 col2\" >1001.681331</td>\n",
       "      <td id=\"T_8f5a4_row40_col3\" class=\"data row40 col3\" >0.000000</td>\n",
       "      <td id=\"T_8f5a4_row40_col4\" class=\"data row40 col4\" >450.000000</td>\n",
       "      <td id=\"T_8f5a4_row40_col5\" class=\"data row40 col5\" >685.420000</td>\n",
       "      <td id=\"T_8f5a4_row40_col6\" class=\"data row40 col6\" >1053.420000</td>\n",
       "      <td id=\"T_8f5a4_row40_col7\" class=\"data row40 col7\" >11949.330000</td>\n",
       "    </tr>\n",
       "    <tr>\n",
       "      <th id=\"T_8f5a4_level0_row41\" class=\"row_heading level0 row41\" >f_42</th>\n",
       "      <td id=\"T_8f5a4_row41_col0\" class=\"data row41 col0\" >937.000000</td>\n",
       "      <td id=\"T_8f5a4_row41_col1\" class=\"data row41 col1\" >427.565582</td>\n",
       "      <td id=\"T_8f5a4_row41_col2\" class=\"data row41 col2\" >715.391648</td>\n",
       "      <td id=\"T_8f5a4_row41_col3\" class=\"data row41 col3\" >0.000000</td>\n",
       "      <td id=\"T_8f5a4_row41_col4\" class=\"data row41 col4\" >180.000000</td>\n",
       "      <td id=\"T_8f5a4_row41_col5\" class=\"data row41 col5\" >270.000000</td>\n",
       "      <td id=\"T_8f5a4_row41_col6\" class=\"data row41 col6\" >460.980000</td>\n",
       "      <td id=\"T_8f5a4_row41_col7\" class=\"data row41 col7\" >11500.000000</td>\n",
       "    </tr>\n",
       "    <tr>\n",
       "      <th id=\"T_8f5a4_level0_row42\" class=\"row_heading level0 row42\" >f_43</th>\n",
       "      <td id=\"T_8f5a4_row42_col0\" class=\"data row42 col0\" >937.000000</td>\n",
       "      <td id=\"T_8f5a4_row42_col1\" class=\"data row42 col1\" >255.435902</td>\n",
       "      <td id=\"T_8f5a4_row42_col2\" class=\"data row42 col2\" >534.306194</td>\n",
       "      <td id=\"T_8f5a4_row42_col3\" class=\"data row42 col3\" >0.000000</td>\n",
       "      <td id=\"T_8f5a4_row42_col4\" class=\"data row42 col4\" >90.800000</td>\n",
       "      <td id=\"T_8f5a4_row42_col5\" class=\"data row42 col5\" >161.650000</td>\n",
       "      <td id=\"T_8f5a4_row42_col6\" class=\"data row42 col6\" >265.510000</td>\n",
       "      <td id=\"T_8f5a4_row42_col7\" class=\"data row42 col7\" >9593.480000</td>\n",
       "    </tr>\n",
       "    <tr>\n",
       "      <th id=\"T_8f5a4_level0_row43\" class=\"row_heading level0 row43\" >f_44</th>\n",
       "      <td id=\"T_8f5a4_row43_col0\" class=\"data row43 col0\" >937.000000</td>\n",
       "      <td id=\"T_8f5a4_row43_col1\" class=\"data row43 col1\" >106.112519</td>\n",
       "      <td id=\"T_8f5a4_row43_col2\" class=\"data row43 col2\" >135.617708</td>\n",
       "      <td id=\"T_8f5a4_row43_col3\" class=\"data row43 col3\" >0.000000</td>\n",
       "      <td id=\"T_8f5a4_row43_col4\" class=\"data row43 col4\" >50.120000</td>\n",
       "      <td id=\"T_8f5a4_row43_col5\" class=\"data row43 col5\" >73.850000</td>\n",
       "      <td id=\"T_8f5a4_row43_col6\" class=\"data row43 col6\" >125.810000</td>\n",
       "      <td id=\"T_8f5a4_row43_col7\" class=\"data row43 col7\" >1748.130000</td>\n",
       "    </tr>\n",
       "    <tr>\n",
       "      <th id=\"T_8f5a4_level0_row44\" class=\"row_heading level0 row44\" >f_45</th>\n",
       "      <td id=\"T_8f5a4_row44_col0\" class=\"data row44 col0\" >937.000000</td>\n",
       "      <td id=\"T_8f5a4_row44_col1\" class=\"data row44 col1\" >5.014002</td>\n",
       "      <td id=\"T_8f5a4_row44_col2\" class=\"data row44 col2\" >5.029151</td>\n",
       "      <td id=\"T_8f5a4_row44_col3\" class=\"data row44 col3\" >0.000000</td>\n",
       "      <td id=\"T_8f5a4_row44_col4\" class=\"data row44 col4\" >2.370000</td>\n",
       "      <td id=\"T_8f5a4_row44_col5\" class=\"data row44 col5\" >3.850000</td>\n",
       "      <td id=\"T_8f5a4_row44_col6\" class=\"data row44 col6\" >6.320000</td>\n",
       "      <td id=\"T_8f5a4_row44_col7\" class=\"data row44 col7\" >76.630000</td>\n",
       "    </tr>\n",
       "    <tr>\n",
       "      <th id=\"T_8f5a4_level0_row45\" class=\"row_heading level0 row45\" >f_46</th>\n",
       "      <td id=\"T_8f5a4_row45_col0\" class=\"data row45 col0\" >937.000000</td>\n",
       "      <td id=\"T_8f5a4_row45_col1\" class=\"data row45 col1\" >0.128068</td>\n",
       "      <td id=\"T_8f5a4_row45_col2\" class=\"data row45 col2\" >0.334344</td>\n",
       "      <td id=\"T_8f5a4_row45_col3\" class=\"data row45 col3\" >0.000000</td>\n",
       "      <td id=\"T_8f5a4_row45_col4\" class=\"data row45 col4\" >0.000000</td>\n",
       "      <td id=\"T_8f5a4_row45_col5\" class=\"data row45 col5\" >0.000000</td>\n",
       "      <td id=\"T_8f5a4_row45_col6\" class=\"data row45 col6\" >0.000000</td>\n",
       "      <td id=\"T_8f5a4_row45_col7\" class=\"data row45 col7\" >1.000000</td>\n",
       "    </tr>\n",
       "    <tr>\n",
       "      <th id=\"T_8f5a4_level0_row46\" class=\"row_heading level0 row46\" >f_47</th>\n",
       "      <td id=\"T_8f5a4_row46_col0\" class=\"data row46 col0\" >937.000000</td>\n",
       "      <td id=\"T_8f5a4_row46_col1\" class=\"data row46 col1\" >7985.718004</td>\n",
       "      <td id=\"T_8f5a4_row46_col2\" class=\"data row46 col2\" >6854.504915</td>\n",
       "      <td id=\"T_8f5a4_row46_col3\" class=\"data row46 col3\" >2051.500000</td>\n",
       "      <td id=\"T_8f5a4_row46_col4\" class=\"data row46 col4\" >3760.570000</td>\n",
       "      <td id=\"T_8f5a4_row46_col5\" class=\"data row46 col5\" >5509.430000</td>\n",
       "      <td id=\"T_8f5a4_row46_col6\" class=\"data row46 col6\" >9521.930000</td>\n",
       "      <td id=\"T_8f5a4_row46_col7\" class=\"data row46 col7\" >55128.460000</td>\n",
       "    </tr>\n",
       "    <tr>\n",
       "      <th id=\"T_8f5a4_level0_row47\" class=\"row_heading level0 row47\" >f_48</th>\n",
       "      <td id=\"T_8f5a4_row47_col0\" class=\"data row47 col0\" >937.000000</td>\n",
       "      <td id=\"T_8f5a4_row47_col1\" class=\"data row47 col1\" >61.694386</td>\n",
       "      <td id=\"T_8f5a4_row47_col2\" class=\"data row47 col2\" >10.412807</td>\n",
       "      <td id=\"T_8f5a4_row47_col3\" class=\"data row47 col3\" >35.950000</td>\n",
       "      <td id=\"T_8f5a4_row47_col4\" class=\"data row47 col4\" >65.720000</td>\n",
       "      <td id=\"T_8f5a4_row47_col5\" class=\"data row47 col5\" >65.930000</td>\n",
       "      <td id=\"T_8f5a4_row47_col6\" class=\"data row47 col6\" >66.130000</td>\n",
       "      <td id=\"T_8f5a4_row47_col7\" class=\"data row47 col7\" >66.450000</td>\n",
       "    </tr>\n",
       "    <tr>\n",
       "      <th id=\"T_8f5a4_level0_row48\" class=\"row_heading level0 row48\" >f_49</th>\n",
       "      <td id=\"T_8f5a4_row48_col0\" class=\"data row48 col0\" >937.000000</td>\n",
       "      <td id=\"T_8f5a4_row48_col1\" class=\"data row48 col1\" >8.119723</td>\n",
       "      <td id=\"T_8f5a4_row48_col2\" class=\"data row48 col2\" >2.908895</td>\n",
       "      <td id=\"T_8f5a4_row48_col3\" class=\"data row48 col3\" >5.810000</td>\n",
       "      <td id=\"T_8f5a4_row48_col4\" class=\"data row48 col4\" >6.340000</td>\n",
       "      <td id=\"T_8f5a4_row48_col5\" class=\"data row48 col5\" >7.220000</td>\n",
       "      <td id=\"T_8f5a4_row48_col6\" class=\"data row48 col6\" >7.840000</td>\n",
       "      <td id=\"T_8f5a4_row48_col7\" class=\"data row48 col7\" >15.440000</td>\n",
       "    </tr>\n",
       "    <tr>\n",
       "      <th id=\"T_8f5a4_level0_row49\" class=\"row_heading level0 row49\" >target</th>\n",
       "      <td id=\"T_8f5a4_row49_col0\" class=\"data row49 col0\" >937.000000</td>\n",
       "      <td id=\"T_8f5a4_row49_col1\" class=\"data row49 col1\" >0.043757</td>\n",
       "      <td id=\"T_8f5a4_row49_col2\" class=\"data row49 col2\" >0.204662</td>\n",
       "      <td id=\"T_8f5a4_row49_col3\" class=\"data row49 col3\" >0.000000</td>\n",
       "      <td id=\"T_8f5a4_row49_col4\" class=\"data row49 col4\" >0.000000</td>\n",
       "      <td id=\"T_8f5a4_row49_col5\" class=\"data row49 col5\" >0.000000</td>\n",
       "      <td id=\"T_8f5a4_row49_col6\" class=\"data row49 col6\" >0.000000</td>\n",
       "      <td id=\"T_8f5a4_row49_col7\" class=\"data row49 col7\" >1.000000</td>\n",
       "    </tr>\n",
       "  </tbody>\n",
       "</table>\n"
      ],
      "text/plain": [
       "<pandas.io.formats.style.Styler at 0x7fd776ffdb50>"
      ]
     },
     "execution_count": 10,
     "metadata": {},
     "output_type": "execute_result"
    }
   ],
   "source": [
    "data.describe().T.style.background_gradient(cmap='Oranges', low=0.5, high=1.0)"
   ]
  },
  {
   "cell_type": "code",
   "execution_count": 11,
   "id": "ca688058",
   "metadata": {
    "execution": {
     "iopub.execute_input": "2023-03-02T20:03:48.682313Z",
     "iopub.status.busy": "2023-03-02T20:03:48.680517Z",
     "iopub.status.idle": "2023-03-02T20:03:48.914656Z",
     "shell.execute_reply": "2023-03-02T20:03:48.913313Z"
    },
    "papermill": {
     "duration": 0.246266,
     "end_time": "2023-03-02T20:03:48.917224",
     "exception": false,
     "start_time": "2023-03-02T20:03:48.670958",
     "status": "completed"
    },
    "tags": []
   },
   "outputs": [
    {
     "data": {
      "image/png": "[encoded data removed]",
      "text/plain": [
       "<Figure size 640x480 with 1 Axes>"
      ]
     },
     "metadata": {},
     "output_type": "display_data"
    }
   ],
   "source": [
    "sns.countplot(x=data['target'],order=data['target'].value_counts().sort_values().index)\n",
    "plt.title('Countplot for Target')\n",
    "plt.show()"
   ]
  },
  {
   "cell_type": "code",
   "execution_count": 12,
   "id": "02203bfa",
   "metadata": {
    "execution": {
     "iopub.execute_input": "2023-03-02T20:03:48.935483Z",
     "iopub.status.busy": "2023-03-02T20:03:48.934561Z",
     "iopub.status.idle": "2023-03-02T20:03:48.947316Z",
     "shell.execute_reply": "2023-03-02T20:03:48.946271Z"
    },
    "papermill": {
     "duration": 0.025035,
     "end_time": "2023-03-02T20:03:48.950112",
     "exception": false,
     "start_time": "2023-03-02T20:03:48.925077",
     "status": "completed"
    },
    "tags": []
   },
   "outputs": [],
   "source": [
    "corr = data.corr()"
   ]
  },
  {
   "cell_type": "code",
   "execution_count": 13,
   "id": "35affccd",
   "metadata": {
    "execution": {
     "iopub.execute_input": "2023-03-02T20:03:48.969054Z",
     "iopub.status.busy": "2023-03-02T20:03:48.968156Z",
     "iopub.status.idle": "2023-03-02T20:03:50.286921Z",
     "shell.execute_reply": "2023-03-02T20:03:50.285989Z"
    },
    "papermill": {
     "duration": 1.33152,
     "end_time": "2023-03-02T20:03:50.289639",
     "exception": false,
     "start_time": "2023-03-02T20:03:48.958119",
     "status": "completed"
    },
    "tags": []
   },
   "outputs": [
    {
     "data": {
      "text/plain": [
       "<AxesSubplot:>"
      ]
     },
     "execution_count": 13,
     "metadata": {},
     "output_type": "execute_result"
    },
    {
     "data": {
      "image/png": "[encoded data removed]",
      "text/plain": [
       "<Figure size 1000x1000 with 2 Axes>"
      ]
     },
     "metadata": {},
     "output_type": "display_data"
    }
   ],
   "source": [
    "plt.figure(figsize=[10,10])\n",
    "sns.heatmap(corr,cmap='RdBu')"
   ]
  },
  {
   "cell_type": "code",
   "execution_count": 14,
   "id": "8800b374",
   "metadata": {
    "execution": {
     "iopub.execute_input": "2023-03-02T20:03:50.310541Z",
     "iopub.status.busy": "2023-03-02T20:03:50.309890Z",
     "iopub.status.idle": "2023-03-02T20:03:50.324260Z",
     "shell.execute_reply": "2023-03-02T20:03:50.323016Z"
    },
    "papermill": {
     "duration": 0.02797,
     "end_time": "2023-03-02T20:03:50.326827",
     "exception": false,
     "start_time": "2023-03-02T20:03:50.298857",
     "status": "completed"
    },
    "tags": []
   },
   "outputs": [
    {
     "data": {
      "text/html": [
       "<div>\n",
       "<style scoped>\n",
       "    .dataframe tbody tr th:only-of-type {\n",
       "        vertical-align: middle;\n",
       "    }\n",
       "\n",
       "    .dataframe tbody tr th {\n",
       "        vertical-align: top;\n",
       "    }\n",
       "\n",
       "    .dataframe thead th {\n",
       "        text-align: right;\n",
       "    }\n",
       "</style>\n",
       "<table border=\"1\" class=\"dataframe\">\n",
       "  <thead>\n",
       "    <tr style=\"text-align: right;\">\n",
       "      <th></th>\n",
       "      <th>f_1</th>\n",
       "      <th>f_9</th>\n",
       "      <th>f_15</th>\n",
       "      <th>f_26</th>\n",
       "      <th>f_37</th>\n",
       "    </tr>\n",
       "  </thead>\n",
       "  <tbody>\n",
       "    <tr>\n",
       "      <th>0</th>\n",
       "      <td>1</td>\n",
       "      <td>29780.0</td>\n",
       "      <td>0.10</td>\n",
       "      <td>-0.01</td>\n",
       "      <td>0.00</td>\n",
       "    </tr>\n",
       "    <tr>\n",
       "      <th>1</th>\n",
       "      <td>2</td>\n",
       "      <td>61900.0</td>\n",
       "      <td>0.01</td>\n",
       "      <td>-0.01</td>\n",
       "      <td>0.00</td>\n",
       "    </tr>\n",
       "    <tr>\n",
       "      <th>2</th>\n",
       "      <td>3</td>\n",
       "      <td>3340.0</td>\n",
       "      <td>0.17</td>\n",
       "      <td>-0.01</td>\n",
       "      <td>0.01</td>\n",
       "    </tr>\n",
       "    <tr>\n",
       "      <th>3</th>\n",
       "      <td>4</td>\n",
       "      <td>18030.0</td>\n",
       "      <td>0.10</td>\n",
       "      <td>-0.01</td>\n",
       "      <td>0.00</td>\n",
       "    </tr>\n",
       "    <tr>\n",
       "      <th>4</th>\n",
       "      <td>5</td>\n",
       "      <td>3350.0</td>\n",
       "      <td>0.09</td>\n",
       "      <td>-0.01</td>\n",
       "      <td>0.00</td>\n",
       "    </tr>\n",
       "  </tbody>\n",
       "</table>\n",
       "</div>"
      ],
      "text/plain": [
       "   f_1      f_9  f_15  f_26  f_37\n",
       "0    1  29780.0  0.10 -0.01  0.00\n",
       "1    2  61900.0  0.01 -0.01  0.00\n",
       "2    3   3340.0  0.17 -0.01  0.01\n",
       "3    4  18030.0  0.10 -0.01  0.00\n",
       "4    5   3350.0  0.09 -0.01  0.00"
      ]
     },
     "execution_count": 14,
     "metadata": {},
     "output_type": "execute_result"
    }
   ],
   "source": [
    "f = ['f_1','f_9','f_15','f_26','f_37',]\n",
    "data[f].head()"
   ]
  },
  {
   "cell_type": "code",
   "execution_count": 15,
   "id": "def9dcb6",
   "metadata": {
    "execution": {
     "iopub.execute_input": "2023-03-02T20:03:50.348268Z",
     "iopub.status.busy": "2023-03-02T20:03:50.347826Z",
     "iopub.status.idle": "2023-03-02T20:03:52.734234Z",
     "shell.execute_reply": "2023-03-02T20:03:52.732970Z"
    },
    "papermill": {
     "duration": 2.400572,
     "end_time": "2023-03-02T20:03:52.736911",
     "exception": false,
     "start_time": "2023-03-02T20:03:50.336339",
     "status": "completed"
    },
    "tags": []
   },
   "outputs": [
    {
     "data": {
      "image/png": "[encoded data removed]",
      "text/plain": [
       "<Figure size 500x500 with 1 Axes>"
      ]
     },
     "metadata": {},
     "output_type": "display_data"
    },
    {
     "data": {
      "image/png": "[encoded data removed]",
      "text/plain": [
       "<Figure size 500x500 with 1 Axes>"
      ]
     },
     "metadata": {},
     "output_type": "display_data"
    },
    {
     "data": {
      "image/png": "[encoded data removed]",
      "text/plain": [
       "<Figure size 500x500 with 1 Axes>"
      ]
     },
     "metadata": {},
     "output_type": "display_data"
    },
    {
     "data": {
      "image/png": "[encoded data removed]",
      "text/plain": [
       "<Figure size 500x500 with 1 Axes>"
      ]
     },
     "metadata": {},
     "output_type": "display_data"
    },
    {
     "data": {
      "image/png": "[encoded data removed]",
      "text/plain": [
       "<Figure size 500x500 with 1 Axes>"
      ]
     },
     "metadata": {},
     "output_type": "display_data"
    }
   ],
   "source": [
    "for i in f:\n",
    "    sns.displot(x=data[i])\n",
    "    plt.title(f'Boxplot for {i}')\n",
    "    plt.show()"
   ]
  },
  {
   "cell_type": "code",
   "execution_count": 16,
   "id": "e8556047",
   "metadata": {
    "execution": {
     "iopub.execute_input": "2023-03-02T20:03:52.761607Z",
     "iopub.status.busy": "2023-03-02T20:03:52.761197Z",
     "iopub.status.idle": "2023-03-02T20:03:52.772957Z",
     "shell.execute_reply": "2023-03-02T20:03:52.771618Z"
    },
    "papermill": {
     "duration": 0.027196,
     "end_time": "2023-03-02T20:03:52.775535",
     "exception": false,
     "start_time": "2023-03-02T20:03:52.748339",
     "status": "completed"
    },
    "tags": []
   },
   "outputs": [
    {
     "name": "stdout",
     "output_type": "stream",
     "text": [
      "Name of column: f_1\n",
      "Number of rows having values >0\n",
      "(937, 50)\n",
      "-----------------------------------\n",
      "Name of column: f_9\n",
      "Number of rows having values >0\n",
      "(937, 50)\n",
      "-----------------------------------\n",
      "Name of column: f_15\n",
      "Number of rows having values >0\n",
      "(937, 50)\n",
      "-----------------------------------\n",
      "Name of column: f_26\n",
      "Number of rows having values >0\n",
      "(790, 50)\n",
      "-----------------------------------\n",
      "Name of column: f_37\n",
      "Number of rows having values >0\n",
      "(613, 50)\n",
      "-----------------------------------\n"
     ]
    }
   ],
   "source": [
    "for i in f:\n",
    "    print(f'Name of column: {i}')\n",
    "    print('Number of rows having values >0')\n",
    "    print(data[data[i]>0].shape)\n",
    "    print('-'*35)"
   ]
  },
  {
   "cell_type": "code",
   "execution_count": 17,
   "id": "f124cfef",
   "metadata": {
    "execution": {
     "iopub.execute_input": "2023-03-02T20:03:52.800454Z",
     "iopub.status.busy": "2023-03-02T20:03:52.799748Z",
     "iopub.status.idle": "2023-03-02T20:03:52.812890Z",
     "shell.execute_reply": "2023-03-02T20:03:52.811655Z"
    },
    "papermill": {
     "duration": 0.028832,
     "end_time": "2023-03-02T20:03:52.815632",
     "exception": false,
     "start_time": "2023-03-02T20:03:52.786800",
     "status": "completed"
    },
    "tags": []
   },
   "outputs": [],
   "source": [
    "corr = data.corr()"
   ]
  },
  {
   "cell_type": "code",
   "execution_count": 18,
   "id": "73efef7c",
   "metadata": {
    "execution": {
     "iopub.execute_input": "2023-03-02T20:03:52.840141Z",
     "iopub.status.busy": "2023-03-02T20:03:52.839736Z",
     "iopub.status.idle": "2023-03-02T20:03:53.116692Z",
     "shell.execute_reply": "2023-03-02T20:03:53.115550Z"
    },
    "papermill": {
     "duration": 0.293482,
     "end_time": "2023-03-02T20:03:53.120159",
     "exception": false,
     "start_time": "2023-03-02T20:03:52.826677",
     "status": "completed"
    },
    "tags": []
   },
   "outputs": [
    {
     "data": {
      "text/plain": [
       "<AxesSubplot:ylabel='f_21'>"
      ]
     },
     "execution_count": 18,
     "metadata": {},
     "output_type": "execute_result"
    },
    {
     "data": {
      "image/png": "[encoded data removed]",
      "text/plain": [
       "<Figure size 640x480 with 1 Axes>"
      ]
     },
     "metadata": {},
     "output_type": "display_data"
    }
   ],
   "source": [
    "sns.scatterplot(data['f_21'])"
   ]
  },
  {
   "cell_type": "markdown",
   "id": "8e0034b0",
   "metadata": {
    "papermill": {
     "duration": 0.01243,
     "end_time": "2023-03-02T20:03:53.144601",
     "exception": false,
     "start_time": "2023-03-02T20:03:53.132171",
     "status": "completed"
    },
    "tags": []
   },
   "source": [
    "## Oil Spill Accuracy"
   ]
  },
  {
   "cell_type": "code",
   "execution_count": 19,
   "id": "b2ac44c5",
   "metadata": {
    "execution": {
     "iopub.execute_input": "2023-03-02T20:03:53.170892Z",
     "iopub.status.busy": "2023-03-02T20:03:53.170475Z",
     "iopub.status.idle": "2023-03-02T20:03:53.248867Z",
     "shell.execute_reply": "2023-03-02T20:03:53.247530Z"
    },
    "papermill": {
     "duration": 0.096987,
     "end_time": "2023-03-02T20:03:53.253745",
     "exception": false,
     "start_time": "2023-03-02T20:03:53.156758",
     "status": "completed"
    },
    "tags": []
   },
   "outputs": [
    {
     "name": "stdout",
     "output_type": "stream",
     "text": [
      "Accuracy: 0.9680851063829787\n"
     ]
    }
   ],
   "source": [
    "# Separate the features and target variable\n",
    "X = data.drop('target', axis=1)\n",
    "y = data['target']\n",
    "\n",
    "# Split the data into training and test sets\n",
    "X_train, X_test, y_train, y_test = train_test_split(X, y, test_size=0.2, random_state=42)\n",
    "\n",
    "# Scale the data\n",
    "scaler = StandardScaler()\n",
    "X_train = scaler.fit_transform(X_train)\n",
    "X_test = scaler.transform(X_test)\n",
    "\n",
    "# Create the logistic regression model\n",
    "model = LogisticRegression()\n",
    "\n",
    "# Fit the model to the training data\n",
    "model.fit(X_train, y_train)\n",
    "\n",
    "# Make predictions on the test data\n",
    "y_pred = model.predict(X_test)\n",
    "\n",
    "# Evaluate the model's performance\n",
    "accuracy = accuracy_score(y_test, y_pred)\n",
    "print('Accuracy:', accuracy)"
   ]
  }
 ],
 "metadata": {
  "kernelspec": {
   "display_name": "Python 3",
   "language": "python",
   "name": "python3"
  },
  "language_info": {
   "codemirror_mode": {
    "name": "ipython",
    "version": 3
   },
   "file_extension": ".py",
   "mimetype": "text/x-python",
   "name": "python",
   "nbconvert_exporter": "python",
   "pygments_lexer": "ipython3",
   "version": "3.7.12"
  },
  "papermill": {
   "default_parameters": {},
   "duration": 19.577642,
   "end_time": "2023-03-02T20:03:53.612907",
   "environment_variables": {},
   "exception": null,
   "input_path": "__notebook__.ipynb",
   "output_path": "__notebook__.ipynb",
   "parameters": {},
   "start_time": "2023-03-02T20:03:34.035265",
   "version": "2.4.0"
  }
 },
 "nbformat": 4,
 "nbformat_minor": 5
}
